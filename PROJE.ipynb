{
 "cells": [
  {
   "cell_type": "code",
   "execution_count": 47,
   "id": "a3721150",
   "metadata": {},
   "outputs": [],
   "source": [
    "import pandas as pd\n",
    "from textblob import TextBlob\n",
    "from sklearn import model_selection, preprocessing, linear_model, naive_bayes, metrics\n",
    "from sklearn.feature_extraction.text import TfidfVectorizer, CountVectorizer\n",
    "from sklearn import decomposition, ensemble\n",
    "import pandas, xgboost, numpy, textblob, string\n",
    "from keras.preprocessing import text, sequence\n",
    "from keras import layers, models, optimizers\n",
    "from warnings import filterwarnings\n",
    "filterwarnings('ignore')"
   ]
  },
  {
   "cell_type": "code",
   "execution_count": 2,
   "id": "4bca1c0c",
   "metadata": {},
   "outputs": [],
   "source": [
    "data=pd.read_csv(\"Restaurant_Reviews.tsv\",sep=\"\\t\")"
   ]
  },
  {
   "cell_type": "code",
   "execution_count": 3,
   "id": "7d4a1679",
   "metadata": {},
   "outputs": [
    {
     "data": {
      "text/html": [
       "<div>\n",
       "<style scoped>\n",
       "    .dataframe tbody tr th:only-of-type {\n",
       "        vertical-align: middle;\n",
       "    }\n",
       "\n",
       "    .dataframe tbody tr th {\n",
       "        vertical-align: top;\n",
       "    }\n",
       "\n",
       "    .dataframe thead th {\n",
       "        text-align: right;\n",
       "    }\n",
       "</style>\n",
       "<table border=\"1\" class=\"dataframe\">\n",
       "  <thead>\n",
       "    <tr style=\"text-align: right;\">\n",
       "      <th></th>\n",
       "      <th>Review</th>\n",
       "      <th>Liked</th>\n",
       "    </tr>\n",
       "  </thead>\n",
       "  <tbody>\n",
       "    <tr>\n",
       "      <th>0</th>\n",
       "      <td>Wow... Loved this place.</td>\n",
       "      <td>1</td>\n",
       "    </tr>\n",
       "    <tr>\n",
       "      <th>1</th>\n",
       "      <td>Crust is not good.</td>\n",
       "      <td>0</td>\n",
       "    </tr>\n",
       "    <tr>\n",
       "      <th>2</th>\n",
       "      <td>Not tasty and the texture was just nasty.</td>\n",
       "      <td>0</td>\n",
       "    </tr>\n",
       "    <tr>\n",
       "      <th>3</th>\n",
       "      <td>Stopped by during the late May bank holiday of...</td>\n",
       "      <td>1</td>\n",
       "    </tr>\n",
       "    <tr>\n",
       "      <th>4</th>\n",
       "      <td>The selection on the menu was great and so wer...</td>\n",
       "      <td>1</td>\n",
       "    </tr>\n",
       "  </tbody>\n",
       "</table>\n",
       "</div>"
      ],
      "text/plain": [
       "                                              Review  Liked\n",
       "0                           Wow... Loved this place.      1\n",
       "1                                 Crust is not good.      0\n",
       "2          Not tasty and the texture was just nasty.      0\n",
       "3  Stopped by during the late May bank holiday of...      1\n",
       "4  The selection on the menu was great and so wer...      1"
      ]
     },
     "execution_count": 3,
     "metadata": {},
     "output_type": "execute_result"
    }
   ],
   "source": [
    "data.head()"
   ]
  },
  {
   "cell_type": "code",
   "execution_count": 4,
   "id": "492393c3",
   "metadata": {},
   "outputs": [
    {
     "data": {
      "text/html": [
       "<div>\n",
       "<style scoped>\n",
       "    .dataframe tbody tr th:only-of-type {\n",
       "        vertical-align: middle;\n",
       "    }\n",
       "\n",
       "    .dataframe tbody tr th {\n",
       "        vertical-align: top;\n",
       "    }\n",
       "\n",
       "    .dataframe thead th {\n",
       "        text-align: right;\n",
       "    }\n",
       "</style>\n",
       "<table border=\"1\" class=\"dataframe\">\n",
       "  <thead>\n",
       "    <tr style=\"text-align: right;\">\n",
       "      <th></th>\n",
       "      <th>Review</th>\n",
       "      <th>Liked</th>\n",
       "    </tr>\n",
       "  </thead>\n",
       "  <tbody>\n",
       "    <tr>\n",
       "      <th>995</th>\n",
       "      <td>I think food should have flavor and texture an...</td>\n",
       "      <td>0</td>\n",
       "    </tr>\n",
       "    <tr>\n",
       "      <th>996</th>\n",
       "      <td>Appetite instantly gone.</td>\n",
       "      <td>0</td>\n",
       "    </tr>\n",
       "    <tr>\n",
       "      <th>997</th>\n",
       "      <td>Overall I was not impressed and would not go b...</td>\n",
       "      <td>0</td>\n",
       "    </tr>\n",
       "    <tr>\n",
       "      <th>998</th>\n",
       "      <td>The whole experience was underwhelming, and I ...</td>\n",
       "      <td>0</td>\n",
       "    </tr>\n",
       "    <tr>\n",
       "      <th>999</th>\n",
       "      <td>Then, as if I hadn't wasted enough of my life ...</td>\n",
       "      <td>0</td>\n",
       "    </tr>\n",
       "  </tbody>\n",
       "</table>\n",
       "</div>"
      ],
      "text/plain": [
       "                                                Review  Liked\n",
       "995  I think food should have flavor and texture an...      0\n",
       "996                           Appetite instantly gone.      0\n",
       "997  Overall I was not impressed and would not go b...      0\n",
       "998  The whole experience was underwhelming, and I ...      0\n",
       "999  Then, as if I hadn't wasted enough of my life ...      0"
      ]
     },
     "execution_count": 4,
     "metadata": {},
     "output_type": "execute_result"
    }
   ],
   "source": [
    "data.tail()"
   ]
  },
  {
   "cell_type": "code",
   "execution_count": 5,
   "id": "9f3fd266",
   "metadata": {},
   "outputs": [],
   "source": [
    "data[\"Liked\"].replace(0, value = \"negatif\", inplace = True)\n",
    "data[\"Liked\"].replace(1, value = \"pozitif\", inplace = True)"
   ]
  },
  {
   "cell_type": "code",
   "execution_count": 6,
   "id": "53577af9",
   "metadata": {},
   "outputs": [
    {
     "data": {
      "text/html": [
       "<div>\n",
       "<style scoped>\n",
       "    .dataframe tbody tr th:only-of-type {\n",
       "        vertical-align: middle;\n",
       "    }\n",
       "\n",
       "    .dataframe tbody tr th {\n",
       "        vertical-align: top;\n",
       "    }\n",
       "\n",
       "    .dataframe thead th {\n",
       "        text-align: right;\n",
       "    }\n",
       "</style>\n",
       "<table border=\"1\" class=\"dataframe\">\n",
       "  <thead>\n",
       "    <tr style=\"text-align: right;\">\n",
       "      <th></th>\n",
       "      <th>Review</th>\n",
       "      <th>Liked</th>\n",
       "    </tr>\n",
       "  </thead>\n",
       "  <tbody>\n",
       "    <tr>\n",
       "      <th>0</th>\n",
       "      <td>Wow... Loved this place.</td>\n",
       "      <td>pozitif</td>\n",
       "    </tr>\n",
       "    <tr>\n",
       "      <th>1</th>\n",
       "      <td>Crust is not good.</td>\n",
       "      <td>negatif</td>\n",
       "    </tr>\n",
       "    <tr>\n",
       "      <th>2</th>\n",
       "      <td>Not tasty and the texture was just nasty.</td>\n",
       "      <td>negatif</td>\n",
       "    </tr>\n",
       "    <tr>\n",
       "      <th>3</th>\n",
       "      <td>Stopped by during the late May bank holiday of...</td>\n",
       "      <td>pozitif</td>\n",
       "    </tr>\n",
       "    <tr>\n",
       "      <th>4</th>\n",
       "      <td>The selection on the menu was great and so wer...</td>\n",
       "      <td>pozitif</td>\n",
       "    </tr>\n",
       "  </tbody>\n",
       "</table>\n",
       "</div>"
      ],
      "text/plain": [
       "                                              Review    Liked\n",
       "0                           Wow... Loved this place.  pozitif\n",
       "1                                 Crust is not good.  negatif\n",
       "2          Not tasty and the texture was just nasty.  negatif\n",
       "3  Stopped by during the late May bank holiday of...  pozitif\n",
       "4  The selection on the menu was great and so wer...  pozitif"
      ]
     },
     "execution_count": 6,
     "metadata": {},
     "output_type": "execute_result"
    }
   ],
   "source": [
    "data.head()"
   ]
  },
  {
   "cell_type": "code",
   "execution_count": 7,
   "id": "aaa74790",
   "metadata": {},
   "outputs": [
    {
     "data": {
      "text/html": [
       "<div>\n",
       "<style scoped>\n",
       "    .dataframe tbody tr th:only-of-type {\n",
       "        vertical-align: middle;\n",
       "    }\n",
       "\n",
       "    .dataframe tbody tr th {\n",
       "        vertical-align: top;\n",
       "    }\n",
       "\n",
       "    .dataframe thead th {\n",
       "        text-align: right;\n",
       "    }\n",
       "</style>\n",
       "<table border=\"1\" class=\"dataframe\">\n",
       "  <thead>\n",
       "    <tr style=\"text-align: right;\">\n",
       "      <th></th>\n",
       "      <th>Review</th>\n",
       "    </tr>\n",
       "    <tr>\n",
       "      <th>Liked</th>\n",
       "      <th></th>\n",
       "    </tr>\n",
       "  </thead>\n",
       "  <tbody>\n",
       "    <tr>\n",
       "      <th>negatif</th>\n",
       "      <td>500</td>\n",
       "    </tr>\n",
       "    <tr>\n",
       "      <th>pozitif</th>\n",
       "      <td>500</td>\n",
       "    </tr>\n",
       "  </tbody>\n",
       "</table>\n",
       "</div>"
      ],
      "text/plain": [
       "         Review\n",
       "Liked          \n",
       "negatif     500\n",
       "pozitif     500"
      ]
     },
     "execution_count": 7,
     "metadata": {},
     "output_type": "execute_result"
    }
   ],
   "source": [
    "data.groupby(by=\"Liked\").count()"
   ]
  },
  {
   "cell_type": "code",
   "execution_count": 8,
   "id": "c77622cc",
   "metadata": {},
   "outputs": [],
   "source": [
    "df = pd.DataFrame()\n",
    "df[\"text\"] = data[\"Review\"]\n",
    "df[\"label\"] = data[\"Liked\"]"
   ]
  },
  {
   "cell_type": "code",
   "execution_count": 9,
   "id": "6144de36",
   "metadata": {},
   "outputs": [
    {
     "data": {
      "text/html": [
       "<div>\n",
       "<style scoped>\n",
       "    .dataframe tbody tr th:only-of-type {\n",
       "        vertical-align: middle;\n",
       "    }\n",
       "\n",
       "    .dataframe tbody tr th {\n",
       "        vertical-align: top;\n",
       "    }\n",
       "\n",
       "    .dataframe thead th {\n",
       "        text-align: right;\n",
       "    }\n",
       "</style>\n",
       "<table border=\"1\" class=\"dataframe\">\n",
       "  <thead>\n",
       "    <tr style=\"text-align: right;\">\n",
       "      <th></th>\n",
       "      <th>text</th>\n",
       "      <th>label</th>\n",
       "    </tr>\n",
       "  </thead>\n",
       "  <tbody>\n",
       "    <tr>\n",
       "      <th>0</th>\n",
       "      <td>Wow... Loved this place.</td>\n",
       "      <td>pozitif</td>\n",
       "    </tr>\n",
       "    <tr>\n",
       "      <th>1</th>\n",
       "      <td>Crust is not good.</td>\n",
       "      <td>negatif</td>\n",
       "    </tr>\n",
       "    <tr>\n",
       "      <th>2</th>\n",
       "      <td>Not tasty and the texture was just nasty.</td>\n",
       "      <td>negatif</td>\n",
       "    </tr>\n",
       "    <tr>\n",
       "      <th>3</th>\n",
       "      <td>Stopped by during the late May bank holiday of...</td>\n",
       "      <td>pozitif</td>\n",
       "    </tr>\n",
       "    <tr>\n",
       "      <th>4</th>\n",
       "      <td>The selection on the menu was great and so wer...</td>\n",
       "      <td>pozitif</td>\n",
       "    </tr>\n",
       "    <tr>\n",
       "      <th>...</th>\n",
       "      <td>...</td>\n",
       "      <td>...</td>\n",
       "    </tr>\n",
       "    <tr>\n",
       "      <th>995</th>\n",
       "      <td>I think food should have flavor and texture an...</td>\n",
       "      <td>negatif</td>\n",
       "    </tr>\n",
       "    <tr>\n",
       "      <th>996</th>\n",
       "      <td>Appetite instantly gone.</td>\n",
       "      <td>negatif</td>\n",
       "    </tr>\n",
       "    <tr>\n",
       "      <th>997</th>\n",
       "      <td>Overall I was not impressed and would not go b...</td>\n",
       "      <td>negatif</td>\n",
       "    </tr>\n",
       "    <tr>\n",
       "      <th>998</th>\n",
       "      <td>The whole experience was underwhelming, and I ...</td>\n",
       "      <td>negatif</td>\n",
       "    </tr>\n",
       "    <tr>\n",
       "      <th>999</th>\n",
       "      <td>Then, as if I hadn't wasted enough of my life ...</td>\n",
       "      <td>negatif</td>\n",
       "    </tr>\n",
       "  </tbody>\n",
       "</table>\n",
       "<p>1000 rows × 2 columns</p>\n",
       "</div>"
      ],
      "text/plain": [
       "                                                  text    label\n",
       "0                             Wow... Loved this place.  pozitif\n",
       "1                                   Crust is not good.  negatif\n",
       "2            Not tasty and the texture was just nasty.  negatif\n",
       "3    Stopped by during the late May bank holiday of...  pozitif\n",
       "4    The selection on the menu was great and so wer...  pozitif\n",
       "..                                                 ...      ...\n",
       "995  I think food should have flavor and texture an...  negatif\n",
       "996                           Appetite instantly gone.  negatif\n",
       "997  Overall I was not impressed and would not go b...  negatif\n",
       "998  The whole experience was underwhelming, and I ...  negatif\n",
       "999  Then, as if I hadn't wasted enough of my life ...  negatif\n",
       "\n",
       "[1000 rows x 2 columns]"
      ]
     },
     "execution_count": 9,
     "metadata": {},
     "output_type": "execute_result"
    }
   ],
   "source": [
    "df"
   ]
  },
  {
   "cell_type": "markdown",
   "id": "81365bc9",
   "metadata": {},
   "source": [
    "# Metin Ön İşlem"
   ]
  },
  {
   "cell_type": "code",
   "execution_count": 10,
   "id": "e93b3763",
   "metadata": {},
   "outputs": [],
   "source": [
    "#buyuk-kucuk donusumu\n",
    "df['text'] = df['text'].apply(lambda x: \" \".join(x.lower() for x in x.split()))"
   ]
  },
  {
   "cell_type": "code",
   "execution_count": 11,
   "id": "6365b79a",
   "metadata": {},
   "outputs": [
    {
     "data": {
      "text/html": [
       "<div>\n",
       "<style scoped>\n",
       "    .dataframe tbody tr th:only-of-type {\n",
       "        vertical-align: middle;\n",
       "    }\n",
       "\n",
       "    .dataframe tbody tr th {\n",
       "        vertical-align: top;\n",
       "    }\n",
       "\n",
       "    .dataframe thead th {\n",
       "        text-align: right;\n",
       "    }\n",
       "</style>\n",
       "<table border=\"1\" class=\"dataframe\">\n",
       "  <thead>\n",
       "    <tr style=\"text-align: right;\">\n",
       "      <th></th>\n",
       "      <th>text</th>\n",
       "      <th>label</th>\n",
       "    </tr>\n",
       "  </thead>\n",
       "  <tbody>\n",
       "    <tr>\n",
       "      <th>0</th>\n",
       "      <td>wow... loved this place.</td>\n",
       "      <td>pozitif</td>\n",
       "    </tr>\n",
       "    <tr>\n",
       "      <th>1</th>\n",
       "      <td>crust is not good.</td>\n",
       "      <td>negatif</td>\n",
       "    </tr>\n",
       "    <tr>\n",
       "      <th>2</th>\n",
       "      <td>not tasty and the texture was just nasty.</td>\n",
       "      <td>negatif</td>\n",
       "    </tr>\n",
       "    <tr>\n",
       "      <th>3</th>\n",
       "      <td>stopped by during the late may bank holiday of...</td>\n",
       "      <td>pozitif</td>\n",
       "    </tr>\n",
       "    <tr>\n",
       "      <th>4</th>\n",
       "      <td>the selection on the menu was great and so wer...</td>\n",
       "      <td>pozitif</td>\n",
       "    </tr>\n",
       "  </tbody>\n",
       "</table>\n",
       "</div>"
      ],
      "text/plain": [
       "                                                text    label\n",
       "0                           wow... loved this place.  pozitif\n",
       "1                                 crust is not good.  negatif\n",
       "2          not tasty and the texture was just nasty.  negatif\n",
       "3  stopped by during the late may bank holiday of...  pozitif\n",
       "4  the selection on the menu was great and so wer...  pozitif"
      ]
     },
     "execution_count": 11,
     "metadata": {},
     "output_type": "execute_result"
    }
   ],
   "source": [
    "df.head()"
   ]
  },
  {
   "cell_type": "code",
   "execution_count": 12,
   "id": "ace58ed0",
   "metadata": {},
   "outputs": [
    {
     "name": "stderr",
     "output_type": "stream",
     "text": [
      "C:\\Users\\ogzhn\\AppData\\Local\\Temp\\ipykernel_14604\\1154341164.py:2: FutureWarning: The default value of regex will change from True to False in a future version.\n",
      "  df['text'] = df['text'].str.replace('[^\\w\\s]','')\n"
     ]
    }
   ],
   "source": [
    "#noktalama işaretleri\n",
    "df['text'] = df['text'].str.replace('[^\\w\\s]','')"
   ]
  },
  {
   "cell_type": "code",
   "execution_count": 13,
   "id": "9f6c92ce",
   "metadata": {},
   "outputs": [
    {
     "data": {
      "text/html": [
       "<div>\n",
       "<style scoped>\n",
       "    .dataframe tbody tr th:only-of-type {\n",
       "        vertical-align: middle;\n",
       "    }\n",
       "\n",
       "    .dataframe tbody tr th {\n",
       "        vertical-align: top;\n",
       "    }\n",
       "\n",
       "    .dataframe thead th {\n",
       "        text-align: right;\n",
       "    }\n",
       "</style>\n",
       "<table border=\"1\" class=\"dataframe\">\n",
       "  <thead>\n",
       "    <tr style=\"text-align: right;\">\n",
       "      <th></th>\n",
       "      <th>text</th>\n",
       "      <th>label</th>\n",
       "    </tr>\n",
       "  </thead>\n",
       "  <tbody>\n",
       "    <tr>\n",
       "      <th>0</th>\n",
       "      <td>wow loved this place</td>\n",
       "      <td>pozitif</td>\n",
       "    </tr>\n",
       "    <tr>\n",
       "      <th>1</th>\n",
       "      <td>crust is not good</td>\n",
       "      <td>negatif</td>\n",
       "    </tr>\n",
       "    <tr>\n",
       "      <th>2</th>\n",
       "      <td>not tasty and the texture was just nasty</td>\n",
       "      <td>negatif</td>\n",
       "    </tr>\n",
       "    <tr>\n",
       "      <th>3</th>\n",
       "      <td>stopped by during the late may bank holiday of...</td>\n",
       "      <td>pozitif</td>\n",
       "    </tr>\n",
       "    <tr>\n",
       "      <th>4</th>\n",
       "      <td>the selection on the menu was great and so wer...</td>\n",
       "      <td>pozitif</td>\n",
       "    </tr>\n",
       "    <tr>\n",
       "      <th>...</th>\n",
       "      <td>...</td>\n",
       "      <td>...</td>\n",
       "    </tr>\n",
       "    <tr>\n",
       "      <th>995</th>\n",
       "      <td>i think food should have flavor and texture an...</td>\n",
       "      <td>negatif</td>\n",
       "    </tr>\n",
       "    <tr>\n",
       "      <th>996</th>\n",
       "      <td>appetite instantly gone</td>\n",
       "      <td>negatif</td>\n",
       "    </tr>\n",
       "    <tr>\n",
       "      <th>997</th>\n",
       "      <td>overall i was not impressed and would not go back</td>\n",
       "      <td>negatif</td>\n",
       "    </tr>\n",
       "    <tr>\n",
       "      <th>998</th>\n",
       "      <td>the whole experience was underwhelming and i t...</td>\n",
       "      <td>negatif</td>\n",
       "    </tr>\n",
       "    <tr>\n",
       "      <th>999</th>\n",
       "      <td>then as if i hadnt wasted enough of my life th...</td>\n",
       "      <td>negatif</td>\n",
       "    </tr>\n",
       "  </tbody>\n",
       "</table>\n",
       "<p>1000 rows × 2 columns</p>\n",
       "</div>"
      ],
      "text/plain": [
       "                                                  text    label\n",
       "0                                 wow loved this place  pozitif\n",
       "1                                    crust is not good  negatif\n",
       "2             not tasty and the texture was just nasty  negatif\n",
       "3    stopped by during the late may bank holiday of...  pozitif\n",
       "4    the selection on the menu was great and so wer...  pozitif\n",
       "..                                                 ...      ...\n",
       "995  i think food should have flavor and texture an...  negatif\n",
       "996                            appetite instantly gone  negatif\n",
       "997  overall i was not impressed and would not go back  negatif\n",
       "998  the whole experience was underwhelming and i t...  negatif\n",
       "999  then as if i hadnt wasted enough of my life th...  negatif\n",
       "\n",
       "[1000 rows x 2 columns]"
      ]
     },
     "execution_count": 13,
     "metadata": {},
     "output_type": "execute_result"
    }
   ],
   "source": [
    "df"
   ]
  },
  {
   "cell_type": "code",
   "execution_count": 14,
   "id": "758444a4",
   "metadata": {},
   "outputs": [
    {
     "name": "stderr",
     "output_type": "stream",
     "text": [
      "C:\\Users\\ogzhn\\AppData\\Local\\Temp\\ipykernel_14604\\2604047529.py:2: FutureWarning: The default value of regex will change from True to False in a future version.\n",
      "  df['text'] = df['text'].str.replace('\\d','')\n"
     ]
    }
   ],
   "source": [
    "#sayılar\n",
    "df['text'] = df['text'].str.replace('\\d','')"
   ]
  },
  {
   "cell_type": "code",
   "execution_count": 15,
   "id": "0bfe438f",
   "metadata": {},
   "outputs": [
    {
     "data": {
      "text/html": [
       "<div>\n",
       "<style scoped>\n",
       "    .dataframe tbody tr th:only-of-type {\n",
       "        vertical-align: middle;\n",
       "    }\n",
       "\n",
       "    .dataframe tbody tr th {\n",
       "        vertical-align: top;\n",
       "    }\n",
       "\n",
       "    .dataframe thead th {\n",
       "        text-align: right;\n",
       "    }\n",
       "</style>\n",
       "<table border=\"1\" class=\"dataframe\">\n",
       "  <thead>\n",
       "    <tr style=\"text-align: right;\">\n",
       "      <th></th>\n",
       "      <th>text</th>\n",
       "      <th>label</th>\n",
       "    </tr>\n",
       "  </thead>\n",
       "  <tbody>\n",
       "    <tr>\n",
       "      <th>0</th>\n",
       "      <td>wow loved this place</td>\n",
       "      <td>pozitif</td>\n",
       "    </tr>\n",
       "    <tr>\n",
       "      <th>1</th>\n",
       "      <td>crust is not good</td>\n",
       "      <td>negatif</td>\n",
       "    </tr>\n",
       "    <tr>\n",
       "      <th>2</th>\n",
       "      <td>not tasty and the texture was just nasty</td>\n",
       "      <td>negatif</td>\n",
       "    </tr>\n",
       "    <tr>\n",
       "      <th>3</th>\n",
       "      <td>stopped by during the late may bank holiday of...</td>\n",
       "      <td>pozitif</td>\n",
       "    </tr>\n",
       "    <tr>\n",
       "      <th>4</th>\n",
       "      <td>the selection on the menu was great and so wer...</td>\n",
       "      <td>pozitif</td>\n",
       "    </tr>\n",
       "    <tr>\n",
       "      <th>...</th>\n",
       "      <td>...</td>\n",
       "      <td>...</td>\n",
       "    </tr>\n",
       "    <tr>\n",
       "      <th>995</th>\n",
       "      <td>i think food should have flavor and texture an...</td>\n",
       "      <td>negatif</td>\n",
       "    </tr>\n",
       "    <tr>\n",
       "      <th>996</th>\n",
       "      <td>appetite instantly gone</td>\n",
       "      <td>negatif</td>\n",
       "    </tr>\n",
       "    <tr>\n",
       "      <th>997</th>\n",
       "      <td>overall i was not impressed and would not go back</td>\n",
       "      <td>negatif</td>\n",
       "    </tr>\n",
       "    <tr>\n",
       "      <th>998</th>\n",
       "      <td>the whole experience was underwhelming and i t...</td>\n",
       "      <td>negatif</td>\n",
       "    </tr>\n",
       "    <tr>\n",
       "      <th>999</th>\n",
       "      <td>then as if i hadnt wasted enough of my life th...</td>\n",
       "      <td>negatif</td>\n",
       "    </tr>\n",
       "  </tbody>\n",
       "</table>\n",
       "<p>1000 rows × 2 columns</p>\n",
       "</div>"
      ],
      "text/plain": [
       "                                                  text    label\n",
       "0                                 wow loved this place  pozitif\n",
       "1                                    crust is not good  negatif\n",
       "2             not tasty and the texture was just nasty  negatif\n",
       "3    stopped by during the late may bank holiday of...  pozitif\n",
       "4    the selection on the menu was great and so wer...  pozitif\n",
       "..                                                 ...      ...\n",
       "995  i think food should have flavor and texture an...  negatif\n",
       "996                            appetite instantly gone  negatif\n",
       "997  overall i was not impressed and would not go back  negatif\n",
       "998  the whole experience was underwhelming and i t...  negatif\n",
       "999  then as if i hadnt wasted enough of my life th...  negatif\n",
       "\n",
       "[1000 rows x 2 columns]"
      ]
     },
     "execution_count": 15,
     "metadata": {},
     "output_type": "execute_result"
    }
   ],
   "source": [
    "df"
   ]
  },
  {
   "cell_type": "code",
   "execution_count": 16,
   "id": "86de2d97",
   "metadata": {},
   "outputs": [],
   "source": [
    "#stopwords\n",
    "import nltk\n",
    "#nltk.download('stopwords')\n",
    "from nltk.corpus import stopwords\n",
    "sw = stopwords.words('english')\n",
    "df['text'] = df['text'].apply(lambda x: \" \".join(x for x in x.split() if x not in sw))"
   ]
  },
  {
   "cell_type": "code",
   "execution_count": 17,
   "id": "7937ddf0",
   "metadata": {},
   "outputs": [
    {
     "data": {
      "text/html": [
       "<div>\n",
       "<style scoped>\n",
       "    .dataframe tbody tr th:only-of-type {\n",
       "        vertical-align: middle;\n",
       "    }\n",
       "\n",
       "    .dataframe tbody tr th {\n",
       "        vertical-align: top;\n",
       "    }\n",
       "\n",
       "    .dataframe thead th {\n",
       "        text-align: right;\n",
       "    }\n",
       "</style>\n",
       "<table border=\"1\" class=\"dataframe\">\n",
       "  <thead>\n",
       "    <tr style=\"text-align: right;\">\n",
       "      <th></th>\n",
       "      <th>text</th>\n",
       "      <th>label</th>\n",
       "    </tr>\n",
       "  </thead>\n",
       "  <tbody>\n",
       "    <tr>\n",
       "      <th>0</th>\n",
       "      <td>wow loved place</td>\n",
       "      <td>pozitif</td>\n",
       "    </tr>\n",
       "    <tr>\n",
       "      <th>1</th>\n",
       "      <td>crust good</td>\n",
       "      <td>negatif</td>\n",
       "    </tr>\n",
       "    <tr>\n",
       "      <th>2</th>\n",
       "      <td>tasty texture nasty</td>\n",
       "      <td>negatif</td>\n",
       "    </tr>\n",
       "    <tr>\n",
       "      <th>3</th>\n",
       "      <td>stopped late may bank holiday rick steve recom...</td>\n",
       "      <td>pozitif</td>\n",
       "    </tr>\n",
       "    <tr>\n",
       "      <th>4</th>\n",
       "      <td>selection menu great prices</td>\n",
       "      <td>pozitif</td>\n",
       "    </tr>\n",
       "    <tr>\n",
       "      <th>...</th>\n",
       "      <td>...</td>\n",
       "      <td>...</td>\n",
       "    </tr>\n",
       "    <tr>\n",
       "      <th>995</th>\n",
       "      <td>think food flavor texture lacking</td>\n",
       "      <td>negatif</td>\n",
       "    </tr>\n",
       "    <tr>\n",
       "      <th>996</th>\n",
       "      <td>appetite instantly gone</td>\n",
       "      <td>negatif</td>\n",
       "    </tr>\n",
       "    <tr>\n",
       "      <th>997</th>\n",
       "      <td>overall impressed would go back</td>\n",
       "      <td>negatif</td>\n",
       "    </tr>\n",
       "    <tr>\n",
       "      <th>998</th>\n",
       "      <td>whole experience underwhelming think well go n...</td>\n",
       "      <td>negatif</td>\n",
       "    </tr>\n",
       "    <tr>\n",
       "      <th>999</th>\n",
       "      <td>hadnt wasted enough life poured salt wound dra...</td>\n",
       "      <td>negatif</td>\n",
       "    </tr>\n",
       "  </tbody>\n",
       "</table>\n",
       "<p>1000 rows × 2 columns</p>\n",
       "</div>"
      ],
      "text/plain": [
       "                                                  text    label\n",
       "0                                      wow loved place  pozitif\n",
       "1                                           crust good  negatif\n",
       "2                                  tasty texture nasty  negatif\n",
       "3    stopped late may bank holiday rick steve recom...  pozitif\n",
       "4                          selection menu great prices  pozitif\n",
       "..                                                 ...      ...\n",
       "995                  think food flavor texture lacking  negatif\n",
       "996                            appetite instantly gone  negatif\n",
       "997                    overall impressed would go back  negatif\n",
       "998  whole experience underwhelming think well go n...  negatif\n",
       "999  hadnt wasted enough life poured salt wound dra...  negatif\n",
       "\n",
       "[1000 rows x 2 columns]"
      ]
     },
     "execution_count": 17,
     "metadata": {},
     "output_type": "execute_result"
    }
   ],
   "source": [
    "df"
   ]
  },
  {
   "cell_type": "code",
   "execution_count": 18,
   "id": "b5f5caab",
   "metadata": {},
   "outputs": [
    {
     "data": {
      "text/html": [
       "<div>\n",
       "<style scoped>\n",
       "    .dataframe tbody tr th:only-of-type {\n",
       "        vertical-align: middle;\n",
       "    }\n",
       "\n",
       "    .dataframe tbody tr th {\n",
       "        vertical-align: top;\n",
       "    }\n",
       "\n",
       "    .dataframe thead th {\n",
       "        text-align: right;\n",
       "    }\n",
       "</style>\n",
       "<table border=\"1\" class=\"dataframe\">\n",
       "  <thead>\n",
       "    <tr style=\"text-align: right;\">\n",
       "      <th></th>\n",
       "      <th>text</th>\n",
       "    </tr>\n",
       "    <tr>\n",
       "      <th>label</th>\n",
       "      <th></th>\n",
       "    </tr>\n",
       "  </thead>\n",
       "  <tbody>\n",
       "    <tr>\n",
       "      <th>negatif</th>\n",
       "      <td>500</td>\n",
       "    </tr>\n",
       "    <tr>\n",
       "      <th>pozitif</th>\n",
       "      <td>500</td>\n",
       "    </tr>\n",
       "  </tbody>\n",
       "</table>\n",
       "</div>"
      ],
      "text/plain": [
       "         text\n",
       "label        \n",
       "negatif   500\n",
       "pozitif   500"
      ]
     },
     "execution_count": 18,
     "metadata": {},
     "output_type": "execute_result"
    }
   ],
   "source": [
    "df.groupby(by=\"label\").count()"
   ]
  },
  {
   "cell_type": "code",
   "execution_count": 19,
   "id": "78e74d95",
   "metadata": {},
   "outputs": [
    {
     "data": {
      "text/html": [
       "<div>\n",
       "<style scoped>\n",
       "    .dataframe tbody tr th:only-of-type {\n",
       "        vertical-align: middle;\n",
       "    }\n",
       "\n",
       "    .dataframe tbody tr th {\n",
       "        vertical-align: top;\n",
       "    }\n",
       "\n",
       "    .dataframe thead th {\n",
       "        text-align: right;\n",
       "    }\n",
       "</style>\n",
       "<table border=\"1\" class=\"dataframe\">\n",
       "  <thead>\n",
       "    <tr style=\"text-align: right;\">\n",
       "      <th></th>\n",
       "      <th>text</th>\n",
       "      <th>label</th>\n",
       "    </tr>\n",
       "  </thead>\n",
       "  <tbody>\n",
       "    <tr>\n",
       "      <th>0</th>\n",
       "      <td>wow loved place</td>\n",
       "      <td>pozitif</td>\n",
       "    </tr>\n",
       "    <tr>\n",
       "      <th>1</th>\n",
       "      <td>crust good</td>\n",
       "      <td>negatif</td>\n",
       "    </tr>\n",
       "    <tr>\n",
       "      <th>2</th>\n",
       "      <td>tasty texture nasty</td>\n",
       "      <td>negatif</td>\n",
       "    </tr>\n",
       "    <tr>\n",
       "      <th>3</th>\n",
       "      <td>stopped late may bank holiday rick steve recom...</td>\n",
       "      <td>pozitif</td>\n",
       "    </tr>\n",
       "    <tr>\n",
       "      <th>4</th>\n",
       "      <td>selection menu great prices</td>\n",
       "      <td>pozitif</td>\n",
       "    </tr>\n",
       "    <tr>\n",
       "      <th>...</th>\n",
       "      <td>...</td>\n",
       "      <td>...</td>\n",
       "    </tr>\n",
       "    <tr>\n",
       "      <th>95</th>\n",
       "      <td>well never go</td>\n",
       "      <td>negatif</td>\n",
       "    </tr>\n",
       "    <tr>\n",
       "      <th>96</th>\n",
       "      <td>back</td>\n",
       "      <td>pozitif</td>\n",
       "    </tr>\n",
       "    <tr>\n",
       "      <th>97</th>\n",
       "      <td>food arrived quickly</td>\n",
       "      <td>pozitif</td>\n",
       "    </tr>\n",
       "    <tr>\n",
       "      <th>98</th>\n",
       "      <td>good</td>\n",
       "      <td>negatif</td>\n",
       "    </tr>\n",
       "    <tr>\n",
       "      <th>99</th>\n",
       "      <td>side cafe serves really good food</td>\n",
       "      <td>pozitif</td>\n",
       "    </tr>\n",
       "  </tbody>\n",
       "</table>\n",
       "<p>100 rows × 2 columns</p>\n",
       "</div>"
      ],
      "text/plain": [
       "                                                 text    label\n",
       "0                                     wow loved place  pozitif\n",
       "1                                          crust good  negatif\n",
       "2                                 tasty texture nasty  negatif\n",
       "3   stopped late may bank holiday rick steve recom...  pozitif\n",
       "4                         selection menu great prices  pozitif\n",
       "..                                                ...      ...\n",
       "95                                      well never go  negatif\n",
       "96                                               back  pozitif\n",
       "97                               food arrived quickly  pozitif\n",
       "98                                               good  negatif\n",
       "99                  side cafe serves really good food  pozitif\n",
       "\n",
       "[100 rows x 2 columns]"
      ]
     },
     "execution_count": 19,
     "metadata": {},
     "output_type": "execute_result"
    }
   ],
   "source": [
    "df.iloc[0:100]"
   ]
  },
  {
   "cell_type": "code",
   "execution_count": 20,
   "id": "c3f45773",
   "metadata": {},
   "outputs": [
    {
     "data": {
      "text/html": [
       "<div>\n",
       "<style scoped>\n",
       "    .dataframe tbody tr th:only-of-type {\n",
       "        vertical-align: middle;\n",
       "    }\n",
       "\n",
       "    .dataframe tbody tr th {\n",
       "        vertical-align: top;\n",
       "    }\n",
       "\n",
       "    .dataframe thead th {\n",
       "        text-align: right;\n",
       "    }\n",
       "</style>\n",
       "<table border=\"1\" class=\"dataframe\">\n",
       "  <thead>\n",
       "    <tr style=\"text-align: right;\">\n",
       "      <th></th>\n",
       "      <th>Review</th>\n",
       "      <th>Liked</th>\n",
       "    </tr>\n",
       "  </thead>\n",
       "  <tbody>\n",
       "    <tr>\n",
       "      <th>0</th>\n",
       "      <td>Wow... Loved this place.</td>\n",
       "      <td>pozitif</td>\n",
       "    </tr>\n",
       "    <tr>\n",
       "      <th>1</th>\n",
       "      <td>Crust is not good.</td>\n",
       "      <td>negatif</td>\n",
       "    </tr>\n",
       "    <tr>\n",
       "      <th>2</th>\n",
       "      <td>Not tasty and the texture was just nasty.</td>\n",
       "      <td>negatif</td>\n",
       "    </tr>\n",
       "    <tr>\n",
       "      <th>3</th>\n",
       "      <td>Stopped by during the late May bank holiday of...</td>\n",
       "      <td>pozitif</td>\n",
       "    </tr>\n",
       "    <tr>\n",
       "      <th>4</th>\n",
       "      <td>The selection on the menu was great and so wer...</td>\n",
       "      <td>pozitif</td>\n",
       "    </tr>\n",
       "    <tr>\n",
       "      <th>...</th>\n",
       "      <td>...</td>\n",
       "      <td>...</td>\n",
       "    </tr>\n",
       "    <tr>\n",
       "      <th>95</th>\n",
       "      <td>We'll never go again.</td>\n",
       "      <td>negatif</td>\n",
       "    </tr>\n",
       "    <tr>\n",
       "      <th>96</th>\n",
       "      <td>Will be back again!</td>\n",
       "      <td>pozitif</td>\n",
       "    </tr>\n",
       "    <tr>\n",
       "      <th>97</th>\n",
       "      <td>Food arrived quickly!</td>\n",
       "      <td>pozitif</td>\n",
       "    </tr>\n",
       "    <tr>\n",
       "      <th>98</th>\n",
       "      <td>It was not good.</td>\n",
       "      <td>negatif</td>\n",
       "    </tr>\n",
       "    <tr>\n",
       "      <th>99</th>\n",
       "      <td>On the up side, their cafe serves really good ...</td>\n",
       "      <td>pozitif</td>\n",
       "    </tr>\n",
       "  </tbody>\n",
       "</table>\n",
       "<p>100 rows × 2 columns</p>\n",
       "</div>"
      ],
      "text/plain": [
       "                                               Review    Liked\n",
       "0                            Wow... Loved this place.  pozitif\n",
       "1                                  Crust is not good.  negatif\n",
       "2           Not tasty and the texture was just nasty.  negatif\n",
       "3   Stopped by during the late May bank holiday of...  pozitif\n",
       "4   The selection on the menu was great and so wer...  pozitif\n",
       "..                                                ...      ...\n",
       "95                              We'll never go again.  negatif\n",
       "96                                Will be back again!  pozitif\n",
       "97                              Food arrived quickly!  pozitif\n",
       "98                                   It was not good.  negatif\n",
       "99  On the up side, their cafe serves really good ...  pozitif\n",
       "\n",
       "[100 rows x 2 columns]"
      ]
     },
     "execution_count": 20,
     "metadata": {},
     "output_type": "execute_result"
    }
   ],
   "source": [
    "data.iloc[0:100]"
   ]
  },
  {
   "cell_type": "markdown",
   "id": "47528b9f",
   "metadata": {},
   "source": [
    "# Matematiksel İşlemler ve Basit Özellik Çıkarımı"
   ]
  },
  {
   "cell_type": "code",
   "execution_count": 21,
   "id": "9d336889",
   "metadata": {},
   "outputs": [],
   "source": [
    "df=pd.DataFrame(df,columns=[\"text\",\"label\"])"
   ]
  },
  {
   "cell_type": "code",
   "execution_count": 22,
   "id": "fa77fd6f",
   "metadata": {},
   "outputs": [],
   "source": [
    "ozellik_df=df.copy()"
   ]
  },
  {
   "cell_type": "code",
   "execution_count": 23,
   "id": "1a45c0dc",
   "metadata": {},
   "outputs": [],
   "source": [
    "ozellik_df[\"karakter sayısı\"]=ozellik_df[\"text\"].str.len()"
   ]
  },
  {
   "cell_type": "code",
   "execution_count": 24,
   "id": "5365f9d5",
   "metadata": {},
   "outputs": [
    {
     "data": {
      "text/html": [
       "<div>\n",
       "<style scoped>\n",
       "    .dataframe tbody tr th:only-of-type {\n",
       "        vertical-align: middle;\n",
       "    }\n",
       "\n",
       "    .dataframe tbody tr th {\n",
       "        vertical-align: top;\n",
       "    }\n",
       "\n",
       "    .dataframe thead th {\n",
       "        text-align: right;\n",
       "    }\n",
       "</style>\n",
       "<table border=\"1\" class=\"dataframe\">\n",
       "  <thead>\n",
       "    <tr style=\"text-align: right;\">\n",
       "      <th></th>\n",
       "      <th>text</th>\n",
       "      <th>label</th>\n",
       "      <th>karakter sayısı</th>\n",
       "    </tr>\n",
       "  </thead>\n",
       "  <tbody>\n",
       "    <tr>\n",
       "      <th>0</th>\n",
       "      <td>wow loved place</td>\n",
       "      <td>pozitif</td>\n",
       "      <td>15</td>\n",
       "    </tr>\n",
       "    <tr>\n",
       "      <th>1</th>\n",
       "      <td>crust good</td>\n",
       "      <td>negatif</td>\n",
       "      <td>10</td>\n",
       "    </tr>\n",
       "    <tr>\n",
       "      <th>2</th>\n",
       "      <td>tasty texture nasty</td>\n",
       "      <td>negatif</td>\n",
       "      <td>19</td>\n",
       "    </tr>\n",
       "    <tr>\n",
       "      <th>3</th>\n",
       "      <td>stopped late may bank holiday rick steve recom...</td>\n",
       "      <td>pozitif</td>\n",
       "      <td>61</td>\n",
       "    </tr>\n",
       "    <tr>\n",
       "      <th>4</th>\n",
       "      <td>selection menu great prices</td>\n",
       "      <td>pozitif</td>\n",
       "      <td>27</td>\n",
       "    </tr>\n",
       "    <tr>\n",
       "      <th>...</th>\n",
       "      <td>...</td>\n",
       "      <td>...</td>\n",
       "      <td>...</td>\n",
       "    </tr>\n",
       "    <tr>\n",
       "      <th>995</th>\n",
       "      <td>think food flavor texture lacking</td>\n",
       "      <td>negatif</td>\n",
       "      <td>33</td>\n",
       "    </tr>\n",
       "    <tr>\n",
       "      <th>996</th>\n",
       "      <td>appetite instantly gone</td>\n",
       "      <td>negatif</td>\n",
       "      <td>23</td>\n",
       "    </tr>\n",
       "    <tr>\n",
       "      <th>997</th>\n",
       "      <td>overall impressed would go back</td>\n",
       "      <td>negatif</td>\n",
       "      <td>31</td>\n",
       "    </tr>\n",
       "    <tr>\n",
       "      <th>998</th>\n",
       "      <td>whole experience underwhelming think well go n...</td>\n",
       "      <td>negatif</td>\n",
       "      <td>66</td>\n",
       "    </tr>\n",
       "    <tr>\n",
       "      <th>999</th>\n",
       "      <td>hadnt wasted enough life poured salt wound dra...</td>\n",
       "      <td>negatif</td>\n",
       "      <td>72</td>\n",
       "    </tr>\n",
       "  </tbody>\n",
       "</table>\n",
       "<p>1000 rows × 3 columns</p>\n",
       "</div>"
      ],
      "text/plain": [
       "                                                  text    label  \\\n",
       "0                                      wow loved place  pozitif   \n",
       "1                                           crust good  negatif   \n",
       "2                                  tasty texture nasty  negatif   \n",
       "3    stopped late may bank holiday rick steve recom...  pozitif   \n",
       "4                          selection menu great prices  pozitif   \n",
       "..                                                 ...      ...   \n",
       "995                  think food flavor texture lacking  negatif   \n",
       "996                            appetite instantly gone  negatif   \n",
       "997                    overall impressed would go back  negatif   \n",
       "998  whole experience underwhelming think well go n...  negatif   \n",
       "999  hadnt wasted enough life poured salt wound dra...  negatif   \n",
       "\n",
       "     karakter sayısı  \n",
       "0                 15  \n",
       "1                 10  \n",
       "2                 19  \n",
       "3                 61  \n",
       "4                 27  \n",
       "..               ...  \n",
       "995               33  \n",
       "996               23  \n",
       "997               31  \n",
       "998               66  \n",
       "999               72  \n",
       "\n",
       "[1000 rows x 3 columns]"
      ]
     },
     "execution_count": 24,
     "metadata": {},
     "output_type": "execute_result"
    }
   ],
   "source": [
    "ozellik_df"
   ]
  },
  {
   "cell_type": "code",
   "execution_count": 25,
   "id": "e37e45c9",
   "metadata": {},
   "outputs": [],
   "source": [
    "ozellik_df[\"kelime sayısı\"]= ozellik_df[\"text\"].apply(lambda x:len(str(x).split(\" \")))"
   ]
  },
  {
   "cell_type": "code",
   "execution_count": 26,
   "id": "0677a3de",
   "metadata": {},
   "outputs": [
    {
     "data": {
      "text/html": [
       "<div>\n",
       "<style scoped>\n",
       "    .dataframe tbody tr th:only-of-type {\n",
       "        vertical-align: middle;\n",
       "    }\n",
       "\n",
       "    .dataframe tbody tr th {\n",
       "        vertical-align: top;\n",
       "    }\n",
       "\n",
       "    .dataframe thead th {\n",
       "        text-align: right;\n",
       "    }\n",
       "</style>\n",
       "<table border=\"1\" class=\"dataframe\">\n",
       "  <thead>\n",
       "    <tr style=\"text-align: right;\">\n",
       "      <th></th>\n",
       "      <th>text</th>\n",
       "      <th>label</th>\n",
       "      <th>karakter sayısı</th>\n",
       "      <th>kelime sayısı</th>\n",
       "    </tr>\n",
       "  </thead>\n",
       "  <tbody>\n",
       "    <tr>\n",
       "      <th>0</th>\n",
       "      <td>wow loved place</td>\n",
       "      <td>pozitif</td>\n",
       "      <td>15</td>\n",
       "      <td>3</td>\n",
       "    </tr>\n",
       "    <tr>\n",
       "      <th>1</th>\n",
       "      <td>crust good</td>\n",
       "      <td>negatif</td>\n",
       "      <td>10</td>\n",
       "      <td>2</td>\n",
       "    </tr>\n",
       "    <tr>\n",
       "      <th>2</th>\n",
       "      <td>tasty texture nasty</td>\n",
       "      <td>negatif</td>\n",
       "      <td>19</td>\n",
       "      <td>3</td>\n",
       "    </tr>\n",
       "    <tr>\n",
       "      <th>3</th>\n",
       "      <td>stopped late may bank holiday rick steve recom...</td>\n",
       "      <td>pozitif</td>\n",
       "      <td>61</td>\n",
       "      <td>9</td>\n",
       "    </tr>\n",
       "    <tr>\n",
       "      <th>4</th>\n",
       "      <td>selection menu great prices</td>\n",
       "      <td>pozitif</td>\n",
       "      <td>27</td>\n",
       "      <td>4</td>\n",
       "    </tr>\n",
       "    <tr>\n",
       "      <th>...</th>\n",
       "      <td>...</td>\n",
       "      <td>...</td>\n",
       "      <td>...</td>\n",
       "      <td>...</td>\n",
       "    </tr>\n",
       "    <tr>\n",
       "      <th>995</th>\n",
       "      <td>think food flavor texture lacking</td>\n",
       "      <td>negatif</td>\n",
       "      <td>33</td>\n",
       "      <td>5</td>\n",
       "    </tr>\n",
       "    <tr>\n",
       "      <th>996</th>\n",
       "      <td>appetite instantly gone</td>\n",
       "      <td>negatif</td>\n",
       "      <td>23</td>\n",
       "      <td>3</td>\n",
       "    </tr>\n",
       "    <tr>\n",
       "      <th>997</th>\n",
       "      <td>overall impressed would go back</td>\n",
       "      <td>negatif</td>\n",
       "      <td>31</td>\n",
       "      <td>5</td>\n",
       "    </tr>\n",
       "    <tr>\n",
       "      <th>998</th>\n",
       "      <td>whole experience underwhelming think well go n...</td>\n",
       "      <td>negatif</td>\n",
       "      <td>66</td>\n",
       "      <td>10</td>\n",
       "    </tr>\n",
       "    <tr>\n",
       "      <th>999</th>\n",
       "      <td>hadnt wasted enough life poured salt wound dra...</td>\n",
       "      <td>negatif</td>\n",
       "      <td>72</td>\n",
       "      <td>12</td>\n",
       "    </tr>\n",
       "  </tbody>\n",
       "</table>\n",
       "<p>1000 rows × 4 columns</p>\n",
       "</div>"
      ],
      "text/plain": [
       "                                                  text    label  \\\n",
       "0                                      wow loved place  pozitif   \n",
       "1                                           crust good  negatif   \n",
       "2                                  tasty texture nasty  negatif   \n",
       "3    stopped late may bank holiday rick steve recom...  pozitif   \n",
       "4                          selection menu great prices  pozitif   \n",
       "..                                                 ...      ...   \n",
       "995                  think food flavor texture lacking  negatif   \n",
       "996                            appetite instantly gone  negatif   \n",
       "997                    overall impressed would go back  negatif   \n",
       "998  whole experience underwhelming think well go n...  negatif   \n",
       "999  hadnt wasted enough life poured salt wound dra...  negatif   \n",
       "\n",
       "     karakter sayısı  kelime sayısı  \n",
       "0                 15              3  \n",
       "1                 10              2  \n",
       "2                 19              3  \n",
       "3                 61              9  \n",
       "4                 27              4  \n",
       "..               ...            ...  \n",
       "995               33              5  \n",
       "996               23              3  \n",
       "997               31              5  \n",
       "998               66             10  \n",
       "999               72             12  \n",
       "\n",
       "[1000 rows x 4 columns]"
      ]
     },
     "execution_count": 26,
     "metadata": {},
     "output_type": "execute_result"
    }
   ],
   "source": [
    "ozellik_df"
   ]
  },
  {
   "cell_type": "code",
   "execution_count": 27,
   "id": "c87eff03",
   "metadata": {},
   "outputs": [],
   "source": [
    "ozellik_df[\"özel karakter sayısı\"] = ozellik_df[\"text\"].apply(lambda x: len([x for x in x.split() \n",
    "                                       if x.startswith(\"good\")]))"
   ]
  },
  {
   "cell_type": "code",
   "execution_count": 28,
   "id": "f8e88086",
   "metadata": {},
   "outputs": [
    {
     "data": {
      "text/html": [
       "<div>\n",
       "<style scoped>\n",
       "    .dataframe tbody tr th:only-of-type {\n",
       "        vertical-align: middle;\n",
       "    }\n",
       "\n",
       "    .dataframe tbody tr th {\n",
       "        vertical-align: top;\n",
       "    }\n",
       "\n",
       "    .dataframe thead th {\n",
       "        text-align: right;\n",
       "    }\n",
       "</style>\n",
       "<table border=\"1\" class=\"dataframe\">\n",
       "  <thead>\n",
       "    <tr style=\"text-align: right;\">\n",
       "      <th></th>\n",
       "      <th>text</th>\n",
       "      <th>label</th>\n",
       "      <th>karakter sayısı</th>\n",
       "      <th>kelime sayısı</th>\n",
       "      <th>özel karakter sayısı</th>\n",
       "    </tr>\n",
       "  </thead>\n",
       "  <tbody>\n",
       "    <tr>\n",
       "      <th>0</th>\n",
       "      <td>wow loved place</td>\n",
       "      <td>pozitif</td>\n",
       "      <td>15</td>\n",
       "      <td>3</td>\n",
       "      <td>0</td>\n",
       "    </tr>\n",
       "    <tr>\n",
       "      <th>1</th>\n",
       "      <td>crust good</td>\n",
       "      <td>negatif</td>\n",
       "      <td>10</td>\n",
       "      <td>2</td>\n",
       "      <td>1</td>\n",
       "    </tr>\n",
       "    <tr>\n",
       "      <th>2</th>\n",
       "      <td>tasty texture nasty</td>\n",
       "      <td>negatif</td>\n",
       "      <td>19</td>\n",
       "      <td>3</td>\n",
       "      <td>0</td>\n",
       "    </tr>\n",
       "    <tr>\n",
       "      <th>3</th>\n",
       "      <td>stopped late may bank holiday rick steve recom...</td>\n",
       "      <td>pozitif</td>\n",
       "      <td>61</td>\n",
       "      <td>9</td>\n",
       "      <td>0</td>\n",
       "    </tr>\n",
       "    <tr>\n",
       "      <th>4</th>\n",
       "      <td>selection menu great prices</td>\n",
       "      <td>pozitif</td>\n",
       "      <td>27</td>\n",
       "      <td>4</td>\n",
       "      <td>0</td>\n",
       "    </tr>\n",
       "    <tr>\n",
       "      <th>...</th>\n",
       "      <td>...</td>\n",
       "      <td>...</td>\n",
       "      <td>...</td>\n",
       "      <td>...</td>\n",
       "      <td>...</td>\n",
       "    </tr>\n",
       "    <tr>\n",
       "      <th>995</th>\n",
       "      <td>think food flavor texture lacking</td>\n",
       "      <td>negatif</td>\n",
       "      <td>33</td>\n",
       "      <td>5</td>\n",
       "      <td>0</td>\n",
       "    </tr>\n",
       "    <tr>\n",
       "      <th>996</th>\n",
       "      <td>appetite instantly gone</td>\n",
       "      <td>negatif</td>\n",
       "      <td>23</td>\n",
       "      <td>3</td>\n",
       "      <td>0</td>\n",
       "    </tr>\n",
       "    <tr>\n",
       "      <th>997</th>\n",
       "      <td>overall impressed would go back</td>\n",
       "      <td>negatif</td>\n",
       "      <td>31</td>\n",
       "      <td>5</td>\n",
       "      <td>0</td>\n",
       "    </tr>\n",
       "    <tr>\n",
       "      <th>998</th>\n",
       "      <td>whole experience underwhelming think well go n...</td>\n",
       "      <td>negatif</td>\n",
       "      <td>66</td>\n",
       "      <td>10</td>\n",
       "      <td>0</td>\n",
       "    </tr>\n",
       "    <tr>\n",
       "      <th>999</th>\n",
       "      <td>hadnt wasted enough life poured salt wound dra...</td>\n",
       "      <td>negatif</td>\n",
       "      <td>72</td>\n",
       "      <td>12</td>\n",
       "      <td>0</td>\n",
       "    </tr>\n",
       "  </tbody>\n",
       "</table>\n",
       "<p>1000 rows × 5 columns</p>\n",
       "</div>"
      ],
      "text/plain": [
       "                                                  text    label  \\\n",
       "0                                      wow loved place  pozitif   \n",
       "1                                           crust good  negatif   \n",
       "2                                  tasty texture nasty  negatif   \n",
       "3    stopped late may bank holiday rick steve recom...  pozitif   \n",
       "4                          selection menu great prices  pozitif   \n",
       "..                                                 ...      ...   \n",
       "995                  think food flavor texture lacking  negatif   \n",
       "996                            appetite instantly gone  negatif   \n",
       "997                    overall impressed would go back  negatif   \n",
       "998  whole experience underwhelming think well go n...  negatif   \n",
       "999  hadnt wasted enough life poured salt wound dra...  negatif   \n",
       "\n",
       "     karakter sayısı  kelime sayısı  özel karakter sayısı  \n",
       "0                 15              3                     0  \n",
       "1                 10              2                     1  \n",
       "2                 19              3                     0  \n",
       "3                 61              9                     0  \n",
       "4                 27              4                     0  \n",
       "..               ...            ...                   ...  \n",
       "995               33              5                     0  \n",
       "996               23              3                     0  \n",
       "997               31              5                     0  \n",
       "998               66             10                     0  \n",
       "999               72             12                     0  \n",
       "\n",
       "[1000 rows x 5 columns]"
      ]
     },
     "execution_count": 28,
     "metadata": {},
     "output_type": "execute_result"
    }
   ],
   "source": [
    "ozellik_df"
   ]
  },
  {
   "cell_type": "code",
   "execution_count": 29,
   "id": "bab20c8b",
   "metadata": {},
   "outputs": [],
   "source": [
    "ozellik_df[\"sayı sayısı\"] = ozellik_df[\"text\"].apply(lambda x: len([x for x in x.split() \n",
    "                                       if x.isdigit()]))"
   ]
  },
  {
   "cell_type": "code",
   "execution_count": 30,
   "id": "685451b3",
   "metadata": {},
   "outputs": [
    {
     "data": {
      "text/html": [
       "<div>\n",
       "<style scoped>\n",
       "    .dataframe tbody tr th:only-of-type {\n",
       "        vertical-align: middle;\n",
       "    }\n",
       "\n",
       "    .dataframe tbody tr th {\n",
       "        vertical-align: top;\n",
       "    }\n",
       "\n",
       "    .dataframe thead th {\n",
       "        text-align: right;\n",
       "    }\n",
       "</style>\n",
       "<table border=\"1\" class=\"dataframe\">\n",
       "  <thead>\n",
       "    <tr style=\"text-align: right;\">\n",
       "      <th></th>\n",
       "      <th>text</th>\n",
       "      <th>label</th>\n",
       "      <th>karakter sayısı</th>\n",
       "      <th>kelime sayısı</th>\n",
       "      <th>özel karakter sayısı</th>\n",
       "      <th>sayı sayısı</th>\n",
       "    </tr>\n",
       "  </thead>\n",
       "  <tbody>\n",
       "    <tr>\n",
       "      <th>0</th>\n",
       "      <td>wow loved place</td>\n",
       "      <td>pozitif</td>\n",
       "      <td>15</td>\n",
       "      <td>3</td>\n",
       "      <td>0</td>\n",
       "      <td>0</td>\n",
       "    </tr>\n",
       "    <tr>\n",
       "      <th>1</th>\n",
       "      <td>crust good</td>\n",
       "      <td>negatif</td>\n",
       "      <td>10</td>\n",
       "      <td>2</td>\n",
       "      <td>1</td>\n",
       "      <td>0</td>\n",
       "    </tr>\n",
       "    <tr>\n",
       "      <th>2</th>\n",
       "      <td>tasty texture nasty</td>\n",
       "      <td>negatif</td>\n",
       "      <td>19</td>\n",
       "      <td>3</td>\n",
       "      <td>0</td>\n",
       "      <td>0</td>\n",
       "    </tr>\n",
       "    <tr>\n",
       "      <th>3</th>\n",
       "      <td>stopped late may bank holiday rick steve recom...</td>\n",
       "      <td>pozitif</td>\n",
       "      <td>61</td>\n",
       "      <td>9</td>\n",
       "      <td>0</td>\n",
       "      <td>0</td>\n",
       "    </tr>\n",
       "    <tr>\n",
       "      <th>4</th>\n",
       "      <td>selection menu great prices</td>\n",
       "      <td>pozitif</td>\n",
       "      <td>27</td>\n",
       "      <td>4</td>\n",
       "      <td>0</td>\n",
       "      <td>0</td>\n",
       "    </tr>\n",
       "    <tr>\n",
       "      <th>...</th>\n",
       "      <td>...</td>\n",
       "      <td>...</td>\n",
       "      <td>...</td>\n",
       "      <td>...</td>\n",
       "      <td>...</td>\n",
       "      <td>...</td>\n",
       "    </tr>\n",
       "    <tr>\n",
       "      <th>995</th>\n",
       "      <td>think food flavor texture lacking</td>\n",
       "      <td>negatif</td>\n",
       "      <td>33</td>\n",
       "      <td>5</td>\n",
       "      <td>0</td>\n",
       "      <td>0</td>\n",
       "    </tr>\n",
       "    <tr>\n",
       "      <th>996</th>\n",
       "      <td>appetite instantly gone</td>\n",
       "      <td>negatif</td>\n",
       "      <td>23</td>\n",
       "      <td>3</td>\n",
       "      <td>0</td>\n",
       "      <td>0</td>\n",
       "    </tr>\n",
       "    <tr>\n",
       "      <th>997</th>\n",
       "      <td>overall impressed would go back</td>\n",
       "      <td>negatif</td>\n",
       "      <td>31</td>\n",
       "      <td>5</td>\n",
       "      <td>0</td>\n",
       "      <td>0</td>\n",
       "    </tr>\n",
       "    <tr>\n",
       "      <th>998</th>\n",
       "      <td>whole experience underwhelming think well go n...</td>\n",
       "      <td>negatif</td>\n",
       "      <td>66</td>\n",
       "      <td>10</td>\n",
       "      <td>0</td>\n",
       "      <td>0</td>\n",
       "    </tr>\n",
       "    <tr>\n",
       "      <th>999</th>\n",
       "      <td>hadnt wasted enough life poured salt wound dra...</td>\n",
       "      <td>negatif</td>\n",
       "      <td>72</td>\n",
       "      <td>12</td>\n",
       "      <td>0</td>\n",
       "      <td>0</td>\n",
       "    </tr>\n",
       "  </tbody>\n",
       "</table>\n",
       "<p>1000 rows × 6 columns</p>\n",
       "</div>"
      ],
      "text/plain": [
       "                                                  text    label  \\\n",
       "0                                      wow loved place  pozitif   \n",
       "1                                           crust good  negatif   \n",
       "2                                  tasty texture nasty  negatif   \n",
       "3    stopped late may bank holiday rick steve recom...  pozitif   \n",
       "4                          selection menu great prices  pozitif   \n",
       "..                                                 ...      ...   \n",
       "995                  think food flavor texture lacking  negatif   \n",
       "996                            appetite instantly gone  negatif   \n",
       "997                    overall impressed would go back  negatif   \n",
       "998  whole experience underwhelming think well go n...  negatif   \n",
       "999  hadnt wasted enough life poured salt wound dra...  negatif   \n",
       "\n",
       "     karakter sayısı  kelime sayısı  özel karakter sayısı  sayı sayısı  \n",
       "0                 15              3                     0            0  \n",
       "1                 10              2                     1            0  \n",
       "2                 19              3                     0            0  \n",
       "3                 61              9                     0            0  \n",
       "4                 27              4                     0            0  \n",
       "..               ...            ...                   ...          ...  \n",
       "995               33              5                     0            0  \n",
       "996               23              3                     0            0  \n",
       "997               31              5                     0            0  \n",
       "998               66             10                     0            0  \n",
       "999               72             12                     0            0  \n",
       "\n",
       "[1000 rows x 6 columns]"
      ]
     },
     "execution_count": 30,
     "metadata": {},
     "output_type": "execute_result"
    }
   ],
   "source": [
    "ozellik_df"
   ]
  },
  {
   "cell_type": "markdown",
   "id": "755cc661",
   "metadata": {},
   "source": [
    "# Terim Frekansı"
   ]
  },
  {
   "cell_type": "code",
   "execution_count": 31,
   "id": "8734b878",
   "metadata": {},
   "outputs": [],
   "source": [
    "tf=(df[\"text\"]).apply(lambda x: \n",
    "                             pd.value_counts(x.split(\" \"))).sum(axis = 0).reset_index()"
   ]
  },
  {
   "cell_type": "code",
   "execution_count": 32,
   "id": "6e1ad824",
   "metadata": {},
   "outputs": [],
   "source": [
    "tf.columns=[\"words\",\"tf\"]"
   ]
  },
  {
   "cell_type": "code",
   "execution_count": 33,
   "id": "eaf929b0",
   "metadata": {},
   "outputs": [
    {
     "data": {
      "text/html": [
       "<div>\n",
       "<style scoped>\n",
       "    .dataframe tbody tr th:only-of-type {\n",
       "        vertical-align: middle;\n",
       "    }\n",
       "\n",
       "    .dataframe tbody tr th {\n",
       "        vertical-align: top;\n",
       "    }\n",
       "\n",
       "    .dataframe thead th {\n",
       "        text-align: right;\n",
       "    }\n",
       "</style>\n",
       "<table border=\"1\" class=\"dataframe\">\n",
       "  <thead>\n",
       "    <tr style=\"text-align: right;\">\n",
       "      <th></th>\n",
       "      <th>words</th>\n",
       "      <th>tf</th>\n",
       "    </tr>\n",
       "  </thead>\n",
       "  <tbody>\n",
       "    <tr>\n",
       "      <th>0</th>\n",
       "      <td>wow</td>\n",
       "      <td>3.0</td>\n",
       "    </tr>\n",
       "    <tr>\n",
       "      <th>1</th>\n",
       "      <td>loved</td>\n",
       "      <td>10.0</td>\n",
       "    </tr>\n",
       "    <tr>\n",
       "      <th>2</th>\n",
       "      <td>place</td>\n",
       "      <td>106.0</td>\n",
       "    </tr>\n",
       "    <tr>\n",
       "      <th>3</th>\n",
       "      <td>crust</td>\n",
       "      <td>2.0</td>\n",
       "    </tr>\n",
       "    <tr>\n",
       "      <th>4</th>\n",
       "      <td>good</td>\n",
       "      <td>95.0</td>\n",
       "    </tr>\n",
       "  </tbody>\n",
       "</table>\n",
       "</div>"
      ],
      "text/plain": [
       "   words     tf\n",
       "0    wow    3.0\n",
       "1  loved   10.0\n",
       "2  place  106.0\n",
       "3  crust    2.0\n",
       "4   good   95.0"
      ]
     },
     "execution_count": 33,
     "metadata": {},
     "output_type": "execute_result"
    }
   ],
   "source": [
    "tf.head()"
   ]
  },
  {
   "cell_type": "code",
   "execution_count": 34,
   "id": "2aaa16d8",
   "metadata": {},
   "outputs": [
    {
     "data": {
      "text/html": [
       "<div>\n",
       "<style scoped>\n",
       "    .dataframe tbody tr th:only-of-type {\n",
       "        vertical-align: middle;\n",
       "    }\n",
       "\n",
       "    .dataframe tbody tr th {\n",
       "        vertical-align: top;\n",
       "    }\n",
       "\n",
       "    .dataframe thead th {\n",
       "        text-align: right;\n",
       "    }\n",
       "</style>\n",
       "<table border=\"1\" class=\"dataframe\">\n",
       "  <thead>\n",
       "    <tr style=\"text-align: right;\">\n",
       "      <th></th>\n",
       "      <th>words</th>\n",
       "      <th>tf</th>\n",
       "    </tr>\n",
       "  </thead>\n",
       "  <tbody>\n",
       "    <tr>\n",
       "      <th>1931</th>\n",
       "      <td>hadnt</td>\n",
       "      <td>1.0</td>\n",
       "    </tr>\n",
       "    <tr>\n",
       "      <th>1932</th>\n",
       "      <td>wasted</td>\n",
       "      <td>1.0</td>\n",
       "    </tr>\n",
       "    <tr>\n",
       "      <th>1933</th>\n",
       "      <td>poured</td>\n",
       "      <td>1.0</td>\n",
       "    </tr>\n",
       "    <tr>\n",
       "      <th>1934</th>\n",
       "      <td>wound</td>\n",
       "      <td>1.0</td>\n",
       "    </tr>\n",
       "    <tr>\n",
       "      <th>1935</th>\n",
       "      <td>drawing</td>\n",
       "      <td>1.0</td>\n",
       "    </tr>\n",
       "  </tbody>\n",
       "</table>\n",
       "</div>"
      ],
      "text/plain": [
       "        words   tf\n",
       "1931    hadnt  1.0\n",
       "1932   wasted  1.0\n",
       "1933   poured  1.0\n",
       "1934    wound  1.0\n",
       "1935  drawing  1.0"
      ]
     },
     "execution_count": 34,
     "metadata": {},
     "output_type": "execute_result"
    }
   ],
   "source": [
    "tf.tail()"
   ]
  },
  {
   "cell_type": "code",
   "execution_count": 35,
   "id": "6ec221d6",
   "metadata": {},
   "outputs": [
    {
     "name": "stdout",
     "output_type": "stream",
     "text": [
      "<class 'pandas.core.frame.DataFrame'>\n",
      "RangeIndex: 1936 entries, 0 to 1935\n",
      "Data columns (total 2 columns):\n",
      " #   Column  Non-Null Count  Dtype  \n",
      "---  ------  --------------  -----  \n",
      " 0   words   1936 non-null   object \n",
      " 1   tf      1936 non-null   float64\n",
      "dtypes: float64(1), object(1)\n",
      "memory usage: 30.4+ KB\n"
     ]
    }
   ],
   "source": [
    "tf.info()"
   ]
  },
  {
   "cell_type": "markdown",
   "id": "1be67c56",
   "metadata": {},
   "source": [
    "#  Bar Plot"
   ]
  },
  {
   "cell_type": "code",
   "execution_count": 36,
   "id": "bd37ddfa",
   "metadata": {},
   "outputs": [],
   "source": [
    "a = tf[tf[\"tf\"] > 50]"
   ]
  },
  {
   "cell_type": "code",
   "execution_count": 37,
   "id": "5ec7dcdd",
   "metadata": {},
   "outputs": [
    {
     "data": {
      "image/png": "[encoded data removed]",
      "text/plain": [
       "<Figure size 640x480 with 1 Axes>"
      ]
     },
     "metadata": {},
     "output_type": "display_data"
    }
   ],
   "source": [
    "a.plot.bar(x = \"words\", y = \"tf\");"
   ]
  },
  {
   "cell_type": "code",
   "execution_count": 38,
   "id": "9f6550bd",
   "metadata": {},
   "outputs": [],
   "source": [
    "b = tf[tf[\"tf\"] > 20];"
   ]
  },
  {
   "cell_type": "code",
   "execution_count": 39,
   "id": "1dd58503",
   "metadata": {},
   "outputs": [
    {
     "data": {
      "image/png": "[encoded data removed]",
      "text/plain": [
       "<Figure size 640x480 with 1 Axes>"
      ]
     },
     "metadata": {},
     "output_type": "display_data"
    }
   ],
   "source": [
    "b.plot.bar(x = \"words\", y = \"tf\");"
   ]
  },
  {
   "cell_type": "markdown",
   "id": "4f0f9ffe",
   "metadata": {},
   "source": [
    "# Word Cloud"
   ]
  },
  {
   "cell_type": "code",
   "execution_count": 40,
   "id": "e8495501",
   "metadata": {},
   "outputs": [],
   "source": [
    "import numpy as np\n",
    "from os import path\n",
    "from PIL import Image\n",
    "from wordcloud import WordCloud, STOPWORDS, ImageColorGenerator\n",
    "import matplotlib.pyplot as plt"
   ]
  },
  {
   "cell_type": "code",
   "execution_count": 41,
   "id": "3babe8a9",
   "metadata": {},
   "outputs": [],
   "source": [
    "tumyorumlar = \" \".join(i for i in df.text)"
   ]
  },
  {
   "cell_type": "code",
   "execution_count": 42,
   "id": "a900ef0c",
   "metadata": {},
   "outputs": [
    {
     "data": {
      "text/plain": [
       "'wow loved place crust good tasty texture nasty stopped late may bank holiday rick steve recommendation loved selection menu great prices getting angry want damn pho honeslty didnt taste fresh potatoes like rubber could tell made ahead time kept warmer fries great great touch service prompt would go back cashier care ever say still ended wayyy overpriced tried cape cod ravoli chicken cranberrymmmm disgusted pretty sure human hair shocked signs indicate cash highly recommended waitress little slow service place worth time let alone vegas like burrittos blah food amazing service also cute could care less interior beautiful performed thats rightthe red velvet cakeohhh stuff good never brought salad asked hole wall great mexican street tacos friendly staff took hour get food tables restaurant food luke warm sever running around like totally overwhelmed worst salmon sashimi also combos like burger fries beer decent deal like final blow found place accident could happier seems like good quick place grab bite familiar pub food favor look elsewhere overall like place lot redeeming quality restaurant inexpensive ample portions good prices poor service waiter made feel like stupid every time came table first visit hiro delight service sucks shrimp tender moist deal good enough would drag establishment hard judge whether sides good grossed melted styrofoam didnt want eat fear getting sick positive note server attentive provided great service frozen pucks disgust worst people behind register thing like prime rib dessert section bad food damn generic burger good beef cooked right want sandwich go firehouse side greek salad greek dressing tasty pita hummus refreshing ordered duck rare pink tender inside nice char outside came running us realized husband left sunglasses table chow mein good horrible attitudes towards customers talk one customers dont enjoy food portion huge loved itfriendly servers great food wonderful imaginative menu heart attack grill downtown vegas absolutely flatlined excuse restaurant much seafood like strings pasta bottom salad right amount sauce power scallop perfectly cooked ripped banana ripped petrified tasteless least think refill water struggle wave minutes place receives stars appetizers cocktails handmade delicious wed definitely go back glad found place great food service huge portions give military discount always great time dos gringos updatewent back second time still amazing got food apparently never heard salt batter fish chewy great way finish great deal included tastings drinks jeff went beyond expected really really good rice time service meh took min get milkshake nothing chocolate milk guess known place would suck inside excalibur didnt use common sense scallop dish quite appalling value well times bad customer service sweet potato fries good seasoned well today second time ive lunch buffet pretty good much good food vegas feel cheated wasting eating opportunity going rice company coming like experiencing underwhelming relationship parties cant wait person ask break walked place smelled like old grease trap others eating turkey roast beef bland place pan cakes everyone raving taste like sugary disaster tailored palate six year old love pho spring rolls oh yummy try poor batter meat ratio made chicken tenders unsatisfying say food amazing omelets die everything fresh delicious summary largely disappointing dining experience like really sexy party mouth youre outrageously flirting hottest person party never hard rock casino never ever step forward best breakfast buffet say bye bye tip lady well never go back food arrived quickly good side cafe serves really good food server fantastic found wife loves roasted garlic bone marrow added extra meal another marrow go good thing waiter helpful kept bloddy marys coming best buffet town price cannot beat loved mussels cooked wine reduction duck tender potato dishes delicious one better buffets went tigerlilly fantastic afternoon food delicious bartender attentive personable got great deal ambience wonderful music playing go back next trip sooooo good real sushi lovers lets honest yama good least min passed us ordering food arriving wasnt busy really fantastic thai restaurant definitely worth visit nice spicy tender good prices check pretty gross ive better atmosphere kind hard mess steak although much liked look sound place actual experience bit disappointing dont know place managed served blandest food ever eaten preparing indian cuisine worst service boot least worries service fine waitress friendly guys steaks steak loving son steak best worst places said best steak hes ever eaten thought youd venture away get good sushi place really hit spot night host staff lack better word bitches bland liking place number reasons dont want waste time bad reviewing ill leave phenomenal food service ambiance wouldnt return definitely worth venturing strip pork belly return next time im vegas place way overpriced mediocre food penne vodka excellent good selection food including massive meatloaf sandwich crispy chicken wrap delish tuna melt tasty burgers management rude delicious nyc bagels good selections cream cheese real lox capers even great subway fact good come every subway meet expectations seriously solid breakfast one best bars food vegas extremely rude really many restaurants would love dine weekend vegas drink never empty made really great menu suggestions dont waiter wasnt helpful friendly rarely checked us husband ate lunch disappointed food service red curry much bamboo shoots wasnt tasty nice blanket moz top feel like done cover subpar food bathrooms clean place well decorated menu always changing food quality going service extremely slow service little slow considering served people servers food coming slow pace give thumbs watched waiter pay lot attention tables ignore us fiancé came middle day greeted seated right away great restaurant mandalay bay waited forty five minutes vain crostini came salad stale highlights great quality nigiri staff friendly joint always clean different cut piece day still wonderful tender well well flavored ordered voodoo pasta first time id really excellent pasta since going gluten free several years ago place good unfortunately must hit bakery leftover day everything ordered stale came back today since relocated still impressed seated immediately menu diverse reasonably priced avoid cost restaurant always full never wait delicious place handsdown one best places eat phoenix metro area dont go looking good food ive never treated bad bacon hella salty also ordered spinach avocado salad ingredients sad dressing literally zero taste really vegas fine dining used right menus handed ladies prices listed waitresses friendly lordy khao soi dish missed curry lovers everything menu terrific also thrilled made amazing accommodations vegetarian daughter perhaps caught night judging reviews im inspired go back service leaves lot desired atmosphere modern hip maintaining touch coziness weekly haunt definitely place come back every literally sat minutes one asking take order burger absolutely flavor meat totally bland burger overcooked charcoal flavor also decided send back waitress looked like verge heart attack dressed treated rudely probably dirt love place hits spot want something healthy lacking quantity flavor ordered lemon raspberry ice cocktail also incredible food sucked expected sucked could imagined interesting decor really like crepe station also served hot bread butter home made potato chips bacon bits topvery original good watch preparing delicious food egg rolls fantastic order arrived one gyros missing salad wings ice cream dessert left feeling quite satisfied im really sure joeys voted best hot dog valley readers phoenix magazine best place go tasty bowl pho live music fridays totally blows ive never insulted felt disrespected friendly staff worth drive heard good things place exceeding every hope could dreamed food great serivce warm beer didnt help great brunch spot service friendly inviting good lunch spot ive lived since first last time ive stepped foot place worst experience ever must night place sides delish mixed mushrooms yukon gold puree white corn beateous bug never showed would given sure side wall bug climbing kitchen minutes waiting salad realized wasnt coming time soon friend loved salmon tartar wont go back extremely tasty waitress good though soggy good jamaican mojitos delicious small worth price food rich order accordingly shower area outside rinse take full shower unless dont mind nude everyone see service bit lacking lobster bisque bussell sprouts risotto filet needed salt pepperand course none tables hopefully bodes going business someone cook come either cold enough flavor bad loved bacon wrapped dates unbelievable bargain folks otto always make us feel welcome special mains also uninspired place first pho amazing wonderful experience made place muststop whenever town food isnt bad enough enjoy dealing worlds worstannoying drunk people fun chef ordered double cheeseburger got single patty falling apart picture uploaded yeah still sucks great place couple drinks watch sporting events walls covered tvs possible give zero stars theyd descriptions said yum yum sauce another said eel sauce yet another said spicy mayowell none rolls sauces id say would hardest decision honestly ms dishes taste supposed taste amazing rolled eyes may stayed sure go back try everyone attentive providing excellent customer service horrible dont waste time money dish quite flavourful time side restaurant almost empty excuse wasnt busy either also building freezing cold like reviewer said couldnt pay eat place drinks took close minutes come one point seriously flavorful delights folks much better ayce sushi place went vegas lighting dark enough set mood based subpar service received effort show gratitude business wont going back owners really great people nothing privileged workingeating greek dressing creamy flavorful overall dont think would take parents place made similar complaints silently felt pizza good peanut sauce tasty table service pretty fast fantastic service well wouldve given godfathers zero stars possible know make tough short flavor hope place sticks around bars vegas ever recall charged tap water restaurant atmosphere exquisite good service clean inexpensive boot seafood fresh generous portion plus bucks service par either thus far visited twice food absolutely delicious time good year ago self proclaimed coffee cafe wildly disappointed veggitarian platter world cant go wrong food cant beat stopped place madison ironman friendly kind staff chefs friendly good job ive better dedicated boba tea spots even jenni pho liked patio service outstanding goat taco didnt skimp meat wow flavor think mac salad pretty bland getting went bachi burger friends recommendation disappointed service stinks waited waited place quality sushi quality restaurant would definitely recommend wings well pizza great pizza salads things went wrong burned saganaki waited hour breakfast could done times better home place amazing hate disagree fellow yelpers husband disappointed place waited hours never got either pizzas many around us came later dont know slow staff great food delish incredible beer selection live neighborhood disappointed wont back convenient location didnt know pulled pork could soooo delicious get incredibly fresh fish prepared care go gave star rating please know third time eating bachi burger writing review love fact everything menu worth never dining place food excellent service good good beer drink selection good food selection please stay away shrimp stir fried noodles potato chip order sad could probably count many chips box probably around food really boring good servicecheck greedy corporation never see another dime never ever go back much id like go back cant get passed atrocious service never return summer dine charming outdoor patio delightful expect good fantastic food ordered toasted english muffin came untoasted food good never going back great food price high quality house made bus boy hand rude point friends basically figured place joke didnt mind making publicly loudly known back good bbq lighter fare reasonable pricing tell public back old ways considering two us left full happy cant go wrong bread made inhouse downside service also fries without doubt worst fries ive ever service exceptional food good reviews couple months later returned amazing meal favorite place town shawarrrrrrma black eyed peas sweet potatoes unreal wont disappointed could serve vinaigrette may make better overall dish still good go far many places ive never seen restaurant serves egg breakfast especially mom got home immediately got sick bites salad servers pleasant deal dont always honor pizza hut coupons truly unbelievably good glad went back fantastic service pleased atmosphere everything gross love place great service food first bathrooms location dirty seat covers replenished plain yucky burger got gold standard burger kind disappointed omg food delicioso nothing authentic place spaghetti nothing special whatsoever dishes salmon best great vegetables fresh sauce feels like authentic thai worth driving tucson selection probably worst ive seen vegasthere none pretty good beer selection place like chipotle better classywarm atmosphere fun fresh appetizers succulent steaks baseball steak stars brick oven bread app eaten multiple times time food delicious sat another ten minutes finally gave left terrible everyone treated equally special shouldnt take min pancakes eggs delicious good side staff genuinely pleasant enthusiastic real treat sadly gordon ramseys steak place shall sharply avoid next trip vegas always evening wonderful food delicious best fish ive ever life bathroom next door nice buffet small food offered bland outstanding little restaurant best food ever tasted pretty cool would say definitely turn doubt ill back unless someone else buying server great job handling large rowdy table find wasting food despicable wasnt food wife lobster bisque soup lukewarm would come back sushi craving vegas staff great ambiance great deserves stars left stomach ache felt sick rest day dropped ball dining space tiny elegantly decorated comfortable customize order way youd like usual eggplant green bean stir fry love beans rice mediocre best best tacos town far took back money got outta interesting part town place amazing rude inconsiderate management staff friendly wait times served horrible one even says hi first minutes wont back great dinners service outshining definitely recommend halibut food terrible never ever go back told many people happened dont recommend unless car breaks front starving come back every time im vegas place deserves one star food disgrace def coming back bowl next time want healthy authentic ethic food try place continue come ladies night andddd date night highly recommend place anyone area several times past experience always great walked away stuffed happy first vegas buffet experience service excellent prices pretty reasonable considering vegas located inside crystals shopping mall aria summarize food incredible nay transcendant nothing brings joy quite like memory pneumatic condiment dispenser im probably one people ever go ians like kids pizza always hit lots great side dish options kiddos service perfect family atmosphere nice see cooked perfection service impeccable one simply disappointment overall disappointed quality food bouchon dont accountant know im getting screwed great place eat reminds little mom pop shops san francisco bay area today first taste buldogis gourmet hot dog tell ever thought possible left frustrated ill definitely soon food really good got full petty fast service fantastic total waste time dont know kind best iced tea come hungry leave happy stuffed service give stars assure wont disappointed take little bad service food sucks gave trying eat crust teeth still sore completely grossed really enjoyed eating first time going think quickly become regular server nice even though looked little overwhelmed needs stayed professional friendly end dinner companions told meeverything fresh nice texture taste ground right next table large smeared beensteppedinandtrackedeverywhere pile green bird poop furthermore cant even find hours operation website weve tried like place times think done mistake complaints seriously good pizza im expertconnisseur topic waiter jerk strike wants rushed nicest restaurant owners ive ever come across never come loved biscuits service quick friendly ordered appetizer took minutes pizza another minutes absolutley fantastic huge awkward lb piece cow ths gristle fat definitely come back like steiners dark feels like bar wow spicy delicious youre familiar check ill take business dinner dollars elsewhere id love go back anyway fs restaurant wonderful breakfastlunch nothing special day week different deal delicious mention combination pears almonds bacon big winner back sauce tasteless food delicious spicy enough sure ask spicier prefer way ribeye steak cooked perfectly great mesquite flavor dont think well going back anytime soon food gooodd far sushi connoisseur definitely tell difference good food bad food certainly bad food insulted last times lunch bad chicken wings contained driest chicken meat ever eaten food good enjoyed every mouthful enjoyable relaxed venue couples small family groups etc nargile think great best tater tots southwest loved place definitely worth paid vanilla ice cream creamy smooth profiterole choux pastry fresh enough im az time new spot manager worst inside really quite nice clean food outstanding prices reasonable dont think ill running back carlys anytime soon food due fact took minutes acknowledged another minutes get foodand kept forgetting things love margaritas first vegas buffet disappoint good though one note ventilation could use upgrading great pork sandwich dont waste time total letdown would much rather go camelback flower shop cartel coffee third cheese friends burger cold enjoy pizza brunch steaks well trimmed also perfectly cooked group claimed would handled us beautifully loved asked bill leave without eating didnt bring either place jewel las vegas exactly ive hoping find nearly ten years living seafood limited boiled shrimp crab legs crab legs definitely taste fresh selection food best delicious absolutely back isnt small family restaurant fine dining establishment toro tartare cavier extraordinary liked thinly sliced wagyu white truffle dont think back long time attached gas station rarely good sign awesome back many times soon menu much good stuff could decide worse humiliated worker right front mebunch horrible name callings conclusion filling meals daily specials always hit group tragedy struck pancake also really good pretty large first crawfish experience delicious monster chicken fried steak eggs time favorite waitress sweet funny also taste moms multigrain pumpkin pancakes pecan butter amazing fluffy delicious id rather eat airline food seriously cant say enough good things place ambiance incredible waitress manager friendly would recommend place overall wasnt impressed noca gyro basically lettuce terrible service thoroughly disappointed dont much pasta love homemade hand made pastas thin pizzas give try happy far best cheesecurds ever reasonably priced also everything perfect night food good typical bar food drive get first glance lovely bakery cafe nice ambiance clean friendly staff anyway think go back point finger item menu order wont disappointed oh thing beauty restaurant havent gone go greasy unhealthy meal first time might last burgers amazing similarly delivery man say word apology food minutes late way expensive sure order dessert even need pack togo tiramisu cannoli die first time cant wait next bartender also nice everything good tasty place two thumbs upway best place vegas breakfast check sat sun love authentic mexican food want whole bunch interesting yet delicious meats choose need try place terrible management excellent new restaurant experienced frenchman zero stars would give zero stars great steak great sides great wine amazing desserts worst martini ever steak shrimp opinion best entrees gc opportunity today sample amazing pizzas waited thirty minutes seated although vacant tables folks waiting yellowtail carpaccio melt mouth fresh wont try going back even empty im going eat potato found strangers hair spicy enough perfect actually last night second time dining happy decided go back even hello right desserts bit strange boyfriend came first time recent trip vegas could pleased quality food service really recommend place go wrong donut place nice ambiance would recommend saving room guess maybe went night disgraceful however recent experience particular location good know like restaurants something avoid establishment think restaurant suffers trying hard enough tapas dishes delicious heart place salad bland vinegrette baby greens hearts palm two felt disgusting good time believe place great stop huge belly hankering sushi generous portions great taste never go back place never ever recommended place anyone servers went back forth several times even much helped food delicious hour seriously consider theft eew location needs complete overhaul recently witnessed poor quality management towards guests well waited waited waited also came back check us regularly excellent service server super nice checked us many times pizza tasted old super chewy good way swung give try deeply disappointed service good company better staff also friendly efficient service im fan quick youre served nice folks boy sucker dry rated look authentic thai food go else steaks recommended pulled car waited another minutes acknowledged great food great service clean friendly setting assure ill back hate things much cheap quality black olives breakfast perpared great beautiful presentation giant slices toast lightly dusted powdered sugar kids play area nasty great place fo take eat waitress friendly happy accomodate veganveggie options omg felt like never eaten thai food dish extremely crumby pretty tasteless pale color instead nice char flavor croutons also taste homemade extra plus got home see driest damn wings ever itll regular stop trips phoenix really enjoyed crema café expanded even told friends best breakfast good money miss wish one philadelphia got sitting fairly fast ended waiting minutes place order another minutes food arrived also best cheese crisp town good value great food great service couldnt ask satisfying meal food good awesome wanted leave made drive way north scottsdale one bit disappointed eating owners really really need quit soooooo cheap let wrap freaking sandwich two papers one checked place couple years ago impressed chicken got definitely reheated ok wedges cold soggy sorry getting food anytime soon absolute must visit cow tongue cheek tacos amazing friend like bloody mary despite hard rate businesses actually rare give star really want make experience good one return chicken pho tasted bland disappointing grilled chicken tender yellow saffron seasoning drive thru means want wait around half hour food somehow end going make us wait wait pretty awesome place ambience perfect best luck rude noncustomer service focused new management grandmother make roasted chicken better one asked multiple times wine list time ignored went hostess got one staff always super friendly helpful especially cool bring two small boys baby four stars food guy blue shirt great vibe still letting us eat roast beef sandwich tasted really good evening drastically sick highquality chicken chicken caesar salad ordered burger rare came well done promptly greeted seated tried go lunch madhouse proven dead wrong sushi bar quality great service fast food impeccable waiting hour seated greatest moods good joint macarons insanely good im eating waiter attentive friendly informative maybe werent cold would somewhat edible place lot promise fails deliver bad experience mistake food average best great food wont going back anytime soon disappointed ordered big bay plater great place relax awesome burger beer perfect sitdown family meal get together friends much flavor poorly constructed patio seating comfortable fried rice dry well hands favorite italian restaurant screams legit booksomethats also pretty rare vegas fun experience atmosphere great lovely duo violinists playing songs requested personally love hummus pita baklava falafels baba ganoush amazing eggplant convenient since staying mgm owners super friendly staff courteous great eclectic selection sweet potato tots good onion rings perfection close staff attentive chef generous time even came around twice take pictures owner used work nobu place really similar half price google mediocre imagine smashburger pop dont go promise wont disappoint sushi lover avoid place means great double cheeseburger awesome service food fantastic neighborhood gem cant wait go back plantains worst ive ever tasted great place highly recommend service slow attentive gave stars im giving stars staff spends time talking dessert panna cotta amazing good food great atmosphere damn good steak total brunch fail prices reasonable flavors spot sauce home made slaw drenched mayo decor nice piano music soundtrack pleasant steak amazingrge fillet relleno best seafood plate ever good food good service absolutely amazing probably wont back honest definitely back sergeant pepper beef sandwich auju sauce excellent sandwich well hawaiian breeze mango magic pineapple delight smoothies ive tried far theyre good went lunch service slow much say place walked expected amazing quickly disappointed mortified needless say never back anyways food definitely filling price pay expect chips came dripping grease mostly edible wasnt really impressed strip steak going since every meal awesome server nice attentive serving staff cashier friendly even brought food work hospitality industry paradise valley refrained recommending cibo longer atmosphere fun would recommend others service quick even go orders like like mean really get famous fish chips terrible said mouths bellies still quite pleased thing thumbs reading please dont go loved grilled pizza reminded legit italian pizza pros large seating area nice bar area great simple drink menu best brick oven pizza homemade dough really nice atmosphere tonight elk filet specialand sucked one bite hooked ordered old classics new dishes going times sorely disappointed everything cute quaint simple honest chicken deliciously seasoned perfect fry outside moist chicken inside food great always compliments chef special thanks dylan recommendation order yummy tummy awesome selection beer great food awesome service one nice thing added gratuity bill since party larger didnt expect tip fly apple juice fly han nan chicken also tasty service thought good food barely lukewarm must sitting waiting server bring us ryans bar definitely one edinburgh establishment wont revisiting nicest chinese restaurant ive overall like food service also serve indian naan bread hummus spicy pine nut sauce world probably never coming back wouldnt recommend friends pasta also bad barely touched try airport experience tasty food speedy friendly service love decor chinese calligraphy wall paper never anything complain restaurant clean family restaurant feel way fried im sure long stood long enough begin feel awkwardly place opened sandwich impressed good way back warm feeling service felt like guest special treat extensive menu provides lots options breakfast always order vegetarian menu dinner wide array options choose watched prices inflate portions get smaller management attitudes grow rapidly wonderful lil tapas ambience made feel warm fuzzy inside got enjoy seafood salad fabulous vinegrette wontons thin thick chewy almost melt mouth level spicy perfect spice didnt overwhelm soup sat right time server get go fantastic main thing didnt enjoy crowd older crowd around mid im side town definitely spot ill hit wait minutes get drink longer get arepas great place eat jalapeno bacon soooo good service poor thats nice food good service good prices good place clean food oh stale chicken dishes ok beef like shoe leather service beyond bad im happy tasted like dirt one places phoenix would definately go back block amazing close house lowkey nonfancy affordable prices good food hot sour egg flower soups absolutely stars sashimi poor quality soggy tasteless great time family dinner sunday night food tasty say real traditional hunan style bother slow service flair bartenders absolutely amazing frozen margaritas way sugary taste good ordered twice nutshell restaraunt smells like combination dirty fish market sewer girlfriends veal bad unfortunately good pretty satifying experience join club get awesome offers via email perfect someone likes beer ice cold case even colder bland flavorless good way describing barely tepid meat chains im fan beat place easily nachos must coming back dont many words say place everything pretty well staff super nice quick even crazy crowds downtown juries lawyers court staff great atmosphere friendly fast service received pita huge lot meat thumbs food arrives meh paying hot dog fries looks like came kids meal wienerschnitzel idea good meal classic maine lobster roll fantastic brother law works mall ate day guess sick night good going review place twice hereas tribute place tribute event held last night chips salsa really good salsa fresh place great mediocre food get inside youll impressed place im super pissd service super friendly sad little vegetables overcooked place nice surprise goldencrispy delicious high hopes place since burgers cooked charcoal grill unfortunately taste fell flat way flat could eat bruschetta day devine single employee came see ok even needed water refill finally served us food lastly mozzarella sticks best thing ordered first time ever came amazing experience still tell people awesome duck server negligent needs made us feel unwelcome would suggest place service terrible though place overpriced consistent boba really overpriced packed love place say desserts yummy food terrible seasonal fruit fresh white peach puree kept getting worse worse im officially done place honestly blown definitely would eat waste money love put food nice plastic containers opposed cramming little paper takeout boxes crêpe delicate thin moist awful service wont ever go food quality horrible price think place would much rather gone service fair best love sushi found kabuki overpriced overhip underservices favor stay away dish poor service one table thought food average worth wait best service food ever maria server good friendly made day excellent paid bill tip felt server terrible job lunch great experience never bland food surprised considering article read focused much spices flavor food way overpriced portions fucking small recently tried caballeros back every week since bucks head really expect better food food came good pace ate twice last visit especially enjoyed salmon salad wont back could believe dirty oysters place deserves stars would recommend place fact im going round stars awesome disbelief dish qualified worst version foods ever tasted bad day low tolerance rude customer service people job nice polite wash dishes otherwise potatoes great biscuit probably would go flavorful perfect amount heat price reasonable service great wife hated meal coconut shrimp friends really enjoy meals either fella got huevos rancheros didnt look appealing went happy hour great list wines may say buffet pricey think get pay place getting quite lot probably wont coming back worst foodservice ive place pretty good nice little vibe restaurant talk great customer service course back hot dishes hot cold dishes close room tempi watched staff prepare food bare hands gloveseverything deep fried oil love fries beans always pleasure dealing plethora salads sandwiches everything ive tried gets seal approval place awesome want something light healthy summer sushi strip place go service great even manager came helped table feel dining room college cooking course high class dining service slow best started review two stars im editing give one worst sushi ever eat besides costcos excellent restaurant highlighted great service unique menu beautiful setting boyfriend sat bar completely delightful experience weird vibe owners hardly meat ive better bagels grocery store go place gyros love ownerchef one authentic japanese cool dude burgers arent good pizza used amazing doughy flavorless found six inch long piece wire salsa service terrible food mediocre definately enjoyed ordered albondigas soup warm tasted like tomato soup frozen meatballs three different occasions asked well done medium well three times got bloodiest piece meat plate two bites refused eat anymore service extremely slow minutes wait got table seriously killer hot chai latte allergy warnings menu waitress absolutely clue meals contain peanuts boyfriend tried mediterranean chicken salad fell love rotating beers tap also highlight place pricing bit concern mellow mushroom worst thai ever stay vegas must get breakfast least want first say server great perfect service pizza selections good strawberry tea good highly unprofessional rude loyal patron overall great experience spend money elsewhere regular toasted bread equally satisfying occasional pats butter mmmm buffet bellagio far anticipated drinks weak people order correct also feel like chips bought made house disappointing dinner went elsewhere dessert chips sals amazing wont returning new fav vegas buffet spot seriously cannot believe owner many unexperienced employees running around like chickens heads cut sad felt insulted disrespected could talk judge another human like call steakhouse cant properly cook steak dont understand im impressed concept food thing wasnt crazy guacamole dont like puréed really nothing postinos hope experience better got food poisoning buffet brought fresh batch fries thinking yay something warm hilarious yummy christmas eve dinner remember biggest fail entire trip us needless say wont going back anytime soon place disgusting every time eat see caring teamwork professional degree ri style calamari joke however much garlic fondue barely edible could barely stomach meal didnt complain business lunch bad lost heart finish also took forever bring us check asked arent ones make scene restaurants dont get itdefinitely lost love one disappointing experience food par dennys say good want wait mediocre food downright terrible service place waaaaaayyyyyyyyyy rated saying wont going back place fairly clean food simply wasnt worth place lacked style sangria half glass wine full ridiculous dont bother coming meat pretty dry sliced brisket pulled pork building seems pretty neat bathroom pretty trippy wouldnt eat equally awful probably hurry go back slow seating even reservation good stretch imagination cashew cream sauce bland vegetables undercooked chipolte ranch dipping sause tasteless seemed thin watered heat bit sweet really spicy enough lacked flavor disappointed place horrible way overpriced maybe vegetarian fare ive twice thought average best wasnt busy know tables outside also dirty lot time workers always friendly helpful menu ambiance feel like buffet setting douchey indoor garden tea biscuits con spotty service fries hot neither burger came back cold food came disappointment ensued real disappointment waiter husband said rude even apologize bad food anything reason eat would fill night binge drinking get carbs stomach insults profound deuchebaggery go outside smoke break serving solidify someone orders two tacos dont think may part customer service ask combo ala cart quite disappointed although blame needs placed door rave reviews couldnt wait eat herewhat disappointment del taco pretty nasty avoided possible hard make decent hamburger dont like hell go back weve gotten much better service pizza place next door services received restaurant dont know big deal place wont back yaall immediately said wanted talk manager want talk guy shots fireball behind bar ambiance isnt much better unfortunately set us disapppointment entrees food wasnt good servers suck wait correction server heimer sucked happened next prettyoff putting bad cause know family owned really wanted like place overpriced getting vomited bathroom mid lunch kept looking time soon become minutes yet still food places eat circumstances would ever return tops list started tuna sashimi brownish color obviously wasnt fresh food average sure beat nachos movies would expect little bit coming restaurant ha long bay bit flop problem charge sandwich bigger subway sub offers better amount vegetables shrimp unwrapped live mile brushfire literally ice cold lacked flavor seemed undercooked dry really impressive place hasnt closed would avoid place staying mirage refried beans came meal dried crusty food bland spend money time place else lady table next us found live green caterpillar salad presentation food awful cant tell disappointed think food flavor texture lacking appetite instantly gone overall impressed would go back whole experience underwhelming think well go ninja sushi next time hadnt wasted enough life poured salt wound drawing time took bring check'"
      ]
     },
     "execution_count": 42,
     "metadata": {},
     "output_type": "execute_result"
    }
   ],
   "source": [
    "tumyorumlar"
   ]
  },
  {
   "cell_type": "code",
   "execution_count": 43,
   "id": "9cbc1e8e",
   "metadata": {},
   "outputs": [
    {
     "data": {
      "image/png": "[encoded data removed]",
      "text/plain": [
       "<Figure size 1000x1000 with 1 Axes>"
      ]
     },
     "metadata": {},
     "output_type": "display_data"
    }
   ],
   "source": [
    "wordcloud = WordCloud(max_font_size = 40,\n",
    "                      max_words=50,\n",
    "                     background_color = \"white\").generate(tumyorumlar)\n",
    "plt.figure(figsize = [10,10])\n",
    "plt.imshow(wordcloud, interpolation = \"bilinear\")\n",
    "plt.axis(\"off\")\n",
    "plt.show()"
   ]
  },
  {
   "cell_type": "markdown",
   "id": "ac858b3d",
   "metadata": {},
   "source": [
    "# Şablona Göre Word Cloud"
   ]
  },
  {
   "cell_type": "code",
   "execution_count": 131,
   "id": "636a46e9",
   "metadata": {},
   "outputs": [],
   "source": [
    "mask = np.array(Image.open(\"1916-768x591.png\"))"
   ]
  },
  {
   "cell_type": "code",
   "execution_count": 132,
   "id": "bc6660bb",
   "metadata": {},
   "outputs": [
    {
     "data": {
      "image/png": "[encoded data removed]",
      "text/plain": [
       "<Figure size 1000x1000 with 1 Axes>"
      ]
     },
     "metadata": {},
     "output_type": "display_data"
    }
   ],
   "source": [
    "wc = WordCloud(background_color = \"white\",\n",
    "                     max_words = 25, \n",
    "                     mask = mask, \n",
    "                     contour_width = 3,\n",
    "                     contour_color = \"firebrick\")\n",
    "\n",
    "wc.generate(tumyorumlar)\n",
    "wc.to_file(\"logo_kelimebulutu.png\")\n",
    "plt.figure(figsize = [10,10])\n",
    "plt.imshow(wc, interpolation = \"bilinear\")\n",
    "plt.axis(\"off\")\n",
    "plt.show()"
   ]
  },
  {
   "cell_type": "markdown",
   "id": "35c39eee",
   "metadata": {},
   "source": [
    "# Uçtan Uca Metin Sınıflandırma Modeli"
   ]
  },
  {
   "cell_type": "markdown",
   "id": "205b50a6",
   "metadata": {},
   "source": [
    "## Test-Train"
   ]
  },
  {
   "cell_type": "code",
   "execution_count": 56,
   "id": "29f6e1a0",
   "metadata": {},
   "outputs": [],
   "source": [
    "train_x, test_x, train_y, test_y = model_selection.train_test_split(df[\"text\"],\n",
    "                                                                   df[\"label\"], \n",
    "                                                                    random_state = 1)"
   ]
  },
  {
   "cell_type": "code",
   "execution_count": 57,
   "id": "50796107",
   "metadata": {},
   "outputs": [
    {
     "data": {
      "text/plain": [
       "298    negatif\n",
       "160    negatif\n",
       "268    pozitif\n",
       "658    pozitif\n",
       "996    negatif\n",
       "Name: label, dtype: object"
      ]
     },
     "execution_count": 57,
     "metadata": {},
     "output_type": "execute_result"
    }
   ],
   "source": [
    "train_y[0:5]"
   ]
  },
  {
   "cell_type": "code",
   "execution_count": 58,
   "id": "6014bbae",
   "metadata": {},
   "outputs": [
    {
     "data": {
      "text/plain": [
       "507    negatif\n",
       "818    negatif\n",
       "452    negatif\n",
       "368    pozitif\n",
       "242    negatif\n",
       "Name: label, dtype: object"
      ]
     },
     "execution_count": 58,
     "metadata": {},
     "output_type": "execute_result"
    }
   ],
   "source": [
    "test_y[0:5]"
   ]
  },
  {
   "cell_type": "code",
   "execution_count": 59,
   "id": "d4c8c5f6",
   "metadata": {},
   "outputs": [],
   "source": [
    "encoder = preprocessing.LabelEncoder()"
   ]
  },
  {
   "cell_type": "code",
   "execution_count": 60,
   "id": "9907ec3d",
   "metadata": {},
   "outputs": [],
   "source": [
    "train_y = encoder.fit_transform(train_y)\n",
    "test_y = encoder.fit_transform(test_y)"
   ]
  },
  {
   "cell_type": "code",
   "execution_count": 61,
   "id": "2d324419",
   "metadata": {},
   "outputs": [
    {
     "data": {
      "text/plain": [
       "array([0, 0, 1, 1, 0])"
      ]
     },
     "execution_count": 61,
     "metadata": {},
     "output_type": "execute_result"
    }
   ],
   "source": [
    "train_y[0:5]"
   ]
  },
  {
   "cell_type": "code",
   "execution_count": 62,
   "id": "37d998ab",
   "metadata": {},
   "outputs": [
    {
     "data": {
      "text/plain": [
       "array([0, 0, 0, 1, 0])"
      ]
     },
     "execution_count": 62,
     "metadata": {},
     "output_type": "execute_result"
    }
   ],
   "source": [
    "test_y[0:5]"
   ]
  },
  {
   "cell_type": "markdown",
   "id": "3c61c369",
   "metadata": {},
   "source": [
    "# Count Vectors"
   ]
  },
  {
   "cell_type": "code",
   "execution_count": 63,
   "id": "ab92080a",
   "metadata": {},
   "outputs": [
    {
     "data": {
      "text/plain": [
       "CountVectorizer()"
      ]
     },
     "execution_count": 63,
     "metadata": {},
     "output_type": "execute_result"
    }
   ],
   "source": [
    "vectorizer = CountVectorizer()\n",
    "vectorizer.fit(train_x)"
   ]
  },
  {
   "cell_type": "code",
   "execution_count": 64,
   "id": "2b4589ce",
   "metadata": {},
   "outputs": [],
   "source": [
    "x_train_count = vectorizer.transform(train_x)\n",
    "x_test_count = vectorizer.transform(test_x)"
   ]
  },
  {
   "cell_type": "code",
   "execution_count": 65,
   "id": "3fb23c91",
   "metadata": {},
   "outputs": [
    {
     "data": {
      "text/plain": [
       "['absolutely', 'absolutley', 'accident', 'accommodations', 'accomodate']"
      ]
     },
     "execution_count": 65,
     "metadata": {},
     "output_type": "execute_result"
    }
   ],
   "source": [
    "vectorizer.get_feature_names()[0:5]"
   ]
  },
  {
   "cell_type": "code",
   "execution_count": 66,
   "id": "0cd21f49",
   "metadata": {},
   "outputs": [
    {
     "data": {
      "text/plain": [
       "array([[0, 0, 0, ..., 0, 0, 0],\n",
       "       [0, 0, 0, ..., 0, 0, 0],\n",
       "       [0, 0, 0, ..., 0, 0, 0],\n",
       "       ...,\n",
       "       [0, 0, 0, ..., 0, 0, 0],\n",
       "       [0, 0, 0, ..., 0, 0, 1],\n",
       "       [0, 0, 0, ..., 0, 0, 0]], dtype=int64)"
      ]
     },
     "execution_count": 66,
     "metadata": {},
     "output_type": "execute_result"
    }
   ],
   "source": [
    "x_train_count.toarray()"
   ]
  },
  {
   "cell_type": "markdown",
   "id": "8c4c9a51",
   "metadata": {},
   "source": [
    "# TF-IDF"
   ]
  },
  {
   "cell_type": "markdown",
   "id": "83fb3212",
   "metadata": {},
   "source": [
    "#### wordlevel"
   ]
  },
  {
   "cell_type": "code",
   "execution_count": 67,
   "id": "61543942",
   "metadata": {},
   "outputs": [
    {
     "data": {
      "text/plain": [
       "TfidfVectorizer()"
      ]
     },
     "execution_count": 67,
     "metadata": {},
     "output_type": "execute_result"
    }
   ],
   "source": [
    "tf_idf_word_vectorizer = TfidfVectorizer()\n",
    "tf_idf_word_vectorizer.fit(train_x)"
   ]
  },
  {
   "cell_type": "code",
   "execution_count": 68,
   "id": "086ce96b",
   "metadata": {},
   "outputs": [],
   "source": [
    "x_train_tf_idf_word = tf_idf_word_vectorizer.transform(train_x)\n",
    "x_test_tf_idf_word = tf_idf_word_vectorizer.transform(test_x)"
   ]
  },
  {
   "cell_type": "code",
   "execution_count": 69,
   "id": "68167064",
   "metadata": {},
   "outputs": [
    {
     "data": {
      "text/plain": [
       "['absolutely', 'absolutley', 'accident', 'accommodations', 'accomodate']"
      ]
     },
     "execution_count": 69,
     "metadata": {},
     "output_type": "execute_result"
    }
   ],
   "source": [
    " tf_idf_word_vectorizer.get_feature_names()[0:5]"
   ]
  },
  {
   "cell_type": "code",
   "execution_count": 70,
   "id": "739ddcea",
   "metadata": {},
   "outputs": [
    {
     "data": {
      "text/plain": [
       "array([[0.        , 0.        , 0.        , ..., 0.        , 0.        ,\n",
       "        0.        ],\n",
       "       [0.        , 0.        , 0.        , ..., 0.        , 0.        ,\n",
       "        0.        ],\n",
       "       [0.        , 0.        , 0.        , ..., 0.        , 0.        ,\n",
       "        0.        ],\n",
       "       ...,\n",
       "       [0.        , 0.        , 0.        , ..., 0.        , 0.        ,\n",
       "        0.        ],\n",
       "       [0.        , 0.        , 0.        , ..., 0.        , 0.        ,\n",
       "        0.44166712],\n",
       "       [0.        , 0.        , 0.        , ..., 0.        , 0.        ,\n",
       "        0.        ]])"
      ]
     },
     "execution_count": 70,
     "metadata": {},
     "output_type": "execute_result"
    }
   ],
   "source": [
    "x_train_tf_idf_word.toarray()"
   ]
  },
  {
   "cell_type": "markdown",
   "id": "f2562aea",
   "metadata": {},
   "source": [
    "#### ngram level tf-idf"
   ]
  },
  {
   "cell_type": "code",
   "execution_count": 71,
   "id": "35d68f94",
   "metadata": {},
   "outputs": [
    {
     "data": {
      "text/plain": [
       "TfidfVectorizer(ngram_range=(2, 3))"
      ]
     },
     "execution_count": 71,
     "metadata": {},
     "output_type": "execute_result"
    }
   ],
   "source": [
    "tf_idf_ngram_vectorizer = TfidfVectorizer(ngram_range = (2,3))\n",
    "tf_idf_ngram_vectorizer.fit(train_x)"
   ]
  },
  {
   "cell_type": "code",
   "execution_count": 72,
   "id": "882532da",
   "metadata": {},
   "outputs": [],
   "source": [
    "x_train_tf_idf_ngram = tf_idf_ngram_vectorizer.transform(train_x)\n",
    "x_test_tf_idf_ngram = tf_idf_ngram_vectorizer.transform(test_x)"
   ]
  },
  {
   "cell_type": "markdown",
   "id": "6db99254",
   "metadata": {},
   "source": [
    "#### characters level tf-idf"
   ]
  },
  {
   "cell_type": "code",
   "execution_count": 74,
   "id": "7fbff1e7",
   "metadata": {},
   "outputs": [
    {
     "data": {
      "text/plain": [
       "TfidfVectorizer(analyzer='char', ngram_range=(2, 3))"
      ]
     },
     "execution_count": 74,
     "metadata": {},
     "output_type": "execute_result"
    }
   ],
   "source": [
    "tf_idf_chars_vectorizer = TfidfVectorizer(analyzer = \"char\", ngram_range = (2,3))\n",
    "tf_idf_chars_vectorizer.fit(train_x)"
   ]
  },
  {
   "cell_type": "code",
   "execution_count": 75,
   "id": "842dd905",
   "metadata": {},
   "outputs": [],
   "source": [
    "x_train_tf_idf_chars = tf_idf_chars_vectorizer.transform(train_x)\n",
    "x_test_tf_idf_chars = tf_idf_chars_vectorizer.transform(test_x)"
   ]
  },
  {
   "cell_type": "markdown",
   "id": "cf46ae9b",
   "metadata": {},
   "source": [
    "# Makine Öğrenmesi ile Sentiment Sınıflandırması"
   ]
  },
  {
   "cell_type": "markdown",
   "id": "451b137c",
   "metadata": {},
   "source": [
    "#### Lojistik Regresyon"
   ]
  },
  {
   "cell_type": "code",
   "execution_count": 116,
   "id": "2cf00bf5",
   "metadata": {},
   "outputs": [
    {
     "name": "stdout",
     "output_type": "stream",
     "text": [
      "Count Vectors Doğruluk Oranı: 0.716\n"
     ]
    }
   ],
   "source": [
    "loj = linear_model.LogisticRegression()\n",
    "loj_model = loj.fit(x_train_count, train_y)\n",
    "accuracy = model_selection.cross_val_score(loj_model, \n",
    "                                           x_test_count, \n",
    "                                           test_y, \n",
    "                                           cv = 10).mean()\n",
    "\n",
    "print(\"Count Vectors Doğruluk Oranı:\", accuracy)"
   ]
  },
  {
   "cell_type": "code",
   "execution_count": 78,
   "id": "8438b389",
   "metadata": {},
   "outputs": [
    {
     "name": "stdout",
     "output_type": "stream",
     "text": [
      "Word-Level TF-IDF Doğruluk Oranı: 0.6839999999999999\n"
     ]
    }
   ],
   "source": [
    "loj = linear_model.LogisticRegression()\n",
    "loj_model = loj.fit(x_train_tf_idf_word,train_y)\n",
    "accuracy = model_selection.cross_val_score(loj_model, \n",
    "                                           x_test_tf_idf_word, \n",
    "                                           test_y, \n",
    "                                           cv = 10).mean()\n",
    "\n",
    "print(\"Word-Level TF-IDF Doğruluk Oranı:\", accuracy)"
   ]
  },
  {
   "cell_type": "code",
   "execution_count": 79,
   "id": "f73db330",
   "metadata": {},
   "outputs": [
    {
     "name": "stdout",
     "output_type": "stream",
     "text": [
      "N-GRAM TF-IDF Doğruluk Oranı: 0.5680000000000002\n"
     ]
    }
   ],
   "source": [
    "loj = linear_model.LogisticRegression()\n",
    "loj_model = loj.fit(x_train_tf_idf_ngram,train_y)\n",
    "accuracy = model_selection.cross_val_score(loj_model, \n",
    "                                           x_test_tf_idf_ngram, \n",
    "                                           test_y, \n",
    "                                           cv = 10).mean()\n",
    "\n",
    "print(\"N-GRAM TF-IDF Doğruluk Oranı:\", accuracy)"
   ]
  },
  {
   "cell_type": "code",
   "execution_count": 80,
   "id": "75459364",
   "metadata": {},
   "outputs": [
    {
     "name": "stdout",
     "output_type": "stream",
     "text": [
      "CHARLEVEL Doğruluk Oranı: 0.6639999999999999\n"
     ]
    }
   ],
   "source": [
    "loj = linear_model.LogisticRegression()\n",
    "loj_model = loj.fit(x_train_tf_idf_chars,train_y)\n",
    "accuracy = model_selection.cross_val_score(loj_model, \n",
    "                                           x_test_tf_idf_chars, \n",
    "                                           test_y, \n",
    "                                           cv = 10).mean()\n",
    "\n",
    "print(\"CHARLEVEL Doğruluk Oranı:\", accuracy)"
   ]
  },
  {
   "cell_type": "markdown",
   "id": "f7b7439b",
   "metadata": {},
   "source": [
    "#### Naive Bayes"
   ]
  },
  {
   "cell_type": "code",
   "execution_count": 99,
   "id": "d86d4cdf",
   "metadata": {},
   "outputs": [
    {
     "name": "stdout",
     "output_type": "stream",
     "text": [
      "Count Vectors Doğruluk Oranı: 0.716\n"
     ]
    }
   ],
   "source": [
    "nb = naive_bayes.MultinomialNB()\n",
    "nb_model = nb.fit(x_train_count,train_y)\n",
    "accuracy = model_selection.cross_val_score(nb_model, \n",
    "                                           x_test_count, \n",
    "                                           test_y, \n",
    "                                           cv = 10).mean()\n",
    "\n",
    "print(\"Count Vectors Doğruluk Oranı:\", accuracy)"
   ]
  },
  {
   "cell_type": "code",
   "execution_count": 82,
   "id": "e67524ee",
   "metadata": {},
   "outputs": [
    {
     "name": "stdout",
     "output_type": "stream",
     "text": [
      "Word-Level TF-IDF Doğruluk Oranı: 0.712\n"
     ]
    }
   ],
   "source": [
    "nb = naive_bayes.MultinomialNB()\n",
    "nb_model = nb.fit(x_train_tf_idf_word,train_y)\n",
    "accuracy = model_selection.cross_val_score(nb_model, \n",
    "                                           x_test_tf_idf_word, \n",
    "                                           test_y, \n",
    "                                           cv = 10).mean()\n",
    "\n",
    "print(\"Word-Level TF-IDF Doğruluk Oranı:\", accuracy)"
   ]
  },
  {
   "cell_type": "code",
   "execution_count": 83,
   "id": "12bf692c",
   "metadata": {},
   "outputs": [
    {
     "name": "stdout",
     "output_type": "stream",
     "text": [
      "N-GRAM TF-IDF Doğruluk Oranı: 0.5680000000000002\n"
     ]
    }
   ],
   "source": [
    "nb = naive_bayes.MultinomialNB()\n",
    "nb_model = nb.fit(x_train_tf_idf_ngram,train_y)\n",
    "accuracy = model_selection.cross_val_score(nb_model, \n",
    "                                           x_test_tf_idf_ngram, \n",
    "                                           test_y, \n",
    "                                           cv = 10).mean()\n",
    "\n",
    "print(\"N-GRAM TF-IDF Doğruluk Oranı:\", accuracy)"
   ]
  },
  {
   "cell_type": "code",
   "execution_count": 84,
   "id": "e7689057",
   "metadata": {},
   "outputs": [
    {
     "name": "stdout",
     "output_type": "stream",
     "text": [
      "CHARLEVEL Doğruluk Oranı: 0.644\n"
     ]
    }
   ],
   "source": [
    "nb = naive_bayes.MultinomialNB()\n",
    "nb_model = nb.fit(x_train_tf_idf_chars,train_y)\n",
    "accuracy = model_selection.cross_val_score(nb_model, \n",
    "                                           x_test_tf_idf_chars, \n",
    "                                           test_y, \n",
    "                                           cv = 10).mean()\n",
    "\n",
    "print(\"CHARLEVEL Doğruluk Oranı:\", accuracy)"
   ]
  },
  {
   "cell_type": "markdown",
   "id": "cc90234e",
   "metadata": {},
   "source": [
    "#### Random Forests"
   ]
  },
  {
   "cell_type": "code",
   "execution_count": 86,
   "id": "0ecbfa8c",
   "metadata": {},
   "outputs": [
    {
     "name": "stdout",
     "output_type": "stream",
     "text": [
      "Count Vectors Doğruluk Oranı: 0.7\n"
     ]
    }
   ],
   "source": [
    "rf = ensemble.RandomForestClassifier()\n",
    "rf_model = rf.fit(x_train_count,train_y)\n",
    "accuracy = model_selection.cross_val_score(rf_model, \n",
    "                                           x_test_count, \n",
    "                                           test_y, \n",
    "                                           cv = 10).mean()\n",
    "\n",
    "print(\"Count Vectors Doğruluk Oranı:\", accuracy)"
   ]
  },
  {
   "cell_type": "code",
   "execution_count": 87,
   "id": "0ddff292",
   "metadata": {},
   "outputs": [
    {
     "name": "stdout",
     "output_type": "stream",
     "text": [
      "Word-Level TF-IDF Doğruluk Oranı: 0.696\n"
     ]
    }
   ],
   "source": [
    "rf = ensemble.RandomForestClassifier()\n",
    "rf_model = rf.fit(x_train_tf_idf_word,train_y)\n",
    "accuracy = model_selection.cross_val_score(rf_model, \n",
    "                                           x_test_tf_idf_word, \n",
    "                                           test_y, \n",
    "                                           cv = 10).mean()\n",
    "\n",
    "print(\"Word-Level TF-IDF Doğruluk Oranı:\", accuracy)"
   ]
  },
  {
   "cell_type": "code",
   "execution_count": 88,
   "id": "40ecd53a",
   "metadata": {},
   "outputs": [
    {
     "name": "stdout",
     "output_type": "stream",
     "text": [
      "N-GRAM TF-IDF Doğruluk Oranı: 0.5680000000000002\n"
     ]
    }
   ],
   "source": [
    "rf = ensemble.RandomForestClassifier()\n",
    "rf_model = loj.fit(x_train_tf_idf_ngram,train_y)\n",
    "accuracy = model_selection.cross_val_score(rf_model, \n",
    "                                           x_test_tf_idf_ngram, \n",
    "                                           test_y, \n",
    "                                           cv = 10).mean()\n",
    "\n",
    "print(\"N-GRAM TF-IDF Doğruluk Oranı:\", accuracy)"
   ]
  },
  {
   "cell_type": "code",
   "execution_count": 89,
   "id": "5510c487",
   "metadata": {},
   "outputs": [
    {
     "name": "stdout",
     "output_type": "stream",
     "text": [
      "CHARLEVEL Doğruluk Oranı: 0.6639999999999999\n"
     ]
    }
   ],
   "source": [
    "rf = ensemble.RandomForestClassifier()\n",
    "rf_model = loj.fit(x_train_tf_idf_chars,train_y)\n",
    "accuracy = model_selection.cross_val_score(rf_model, \n",
    "                                           x_test_tf_idf_chars, \n",
    "                                           test_y, \n",
    "                                           cv = 10).mean()\n",
    "\n",
    "print(\"CHARLEVEL Doğruluk Oranı:\", accuracy)"
   ]
  },
  {
   "cell_type": "markdown",
   "id": "992ed002",
   "metadata": {},
   "source": [
    "#### XGBoost"
   ]
  },
  {
   "cell_type": "code",
   "execution_count": 90,
   "id": "ca599926",
   "metadata": {},
   "outputs": [
    {
     "name": "stdout",
     "output_type": "stream",
     "text": [
      "Count Vectors Doğruluk Oranı: 0.6439999999999999\n"
     ]
    }
   ],
   "source": [
    "xgb = xgboost.XGBClassifier()\n",
    "xgb_model = xgb.fit(x_train_count,train_y)\n",
    "accuracy = model_selection.cross_val_score(xgb_model, \n",
    "                                           x_test_count, \n",
    "                                           test_y, \n",
    "                                           cv = 10).mean()\n",
    "\n",
    "print(\"Count Vectors Doğruluk Oranı:\", accuracy)"
   ]
  },
  {
   "cell_type": "code",
   "execution_count": 91,
   "id": "0a8ee578",
   "metadata": {},
   "outputs": [
    {
     "name": "stdout",
     "output_type": "stream",
     "text": [
      "Word-Level TF-IDF Doğruluk Oranı: 0.6519999999999999\n"
     ]
    }
   ],
   "source": [
    "xgb = xgboost.XGBClassifier()\n",
    "xgb_model = xgb.fit(x_train_tf_idf_word,train_y)\n",
    "accuracy = model_selection.cross_val_score(xgb_model, \n",
    "                                           x_test_tf_idf_word, \n",
    "                                           test_y, \n",
    "                                           cv = 10).mean()\n",
    "\n",
    "print(\"Word-Level TF-IDF Doğruluk Oranı:\", accuracy)"
   ]
  },
  {
   "cell_type": "code",
   "execution_count": 92,
   "id": "3fe1d962",
   "metadata": {},
   "outputs": [
    {
     "name": "stdout",
     "output_type": "stream",
     "text": [
      "N-GRAM TF-IDF Doğruluk Oranı: 0.5359999999999999\n"
     ]
    }
   ],
   "source": [
    "xgb = xgboost.XGBClassifier()\n",
    "xgb_model = xgb.fit(x_train_tf_idf_ngram,train_y)\n",
    "accuracy = model_selection.cross_val_score(xgb_model, \n",
    "                                           x_test_tf_idf_ngram, \n",
    "                                           test_y, \n",
    "                                           cv = 10).mean()\n",
    "\n",
    "print(\"N-GRAM TF-IDF Doğruluk Oranı:\", accuracy)"
   ]
  },
  {
   "cell_type": "code",
   "execution_count": 93,
   "id": "115def08",
   "metadata": {},
   "outputs": [
    {
     "name": "stdout",
     "output_type": "stream",
     "text": [
      "CHARLEVEL Doğruluk Oranı: 0.58\n"
     ]
    }
   ],
   "source": [
    "xgb = xgboost.XGBClassifier()\n",
    "xgb_model = xgb.fit(x_train_tf_idf_chars,train_y)\n",
    "accuracy = model_selection.cross_val_score(xgb_model, \n",
    "                                           x_test_tf_idf_chars, \n",
    "                                           test_y, \n",
    "                                           cv = 10).mean()\n",
    "\n",
    "print(\"CHARLEVEL Doğruluk Oranı:\", accuracy)"
   ]
  },
  {
   "cell_type": "markdown",
   "id": "e83f7a7e",
   "metadata": {},
   "source": [
    "## En Yüksek Doğruluk Oranına Sahip Modelin Testi"
   ]
  },
  {
   "cell_type": "code",
   "execution_count": 117,
   "id": "d3a6166e",
   "metadata": {},
   "outputs": [
    {
     "data": {
      "text/plain": [
       "LogisticRegression()"
      ]
     },
     "execution_count": 117,
     "metadata": {},
     "output_type": "execute_result"
    }
   ],
   "source": [
    "loj_model"
   ]
  },
  {
   "cell_type": "code",
   "execution_count": 118,
   "id": "b771eb3c",
   "metadata": {},
   "outputs": [],
   "source": [
    "yeni_yorum = pd.Series(\"this food is very nice and fast\")"
   ]
  },
  {
   "cell_type": "code",
   "execution_count": 119,
   "id": "79d1b3d1",
   "metadata": {},
   "outputs": [],
   "source": [
    "yeni_yorum1= pd.Series(\"food was uncooked and cold\")\n"
   ]
  },
  {
   "cell_type": "code",
   "execution_count": 120,
   "id": "eaef1ea9",
   "metadata": {},
   "outputs": [
    {
     "data": {
      "text/plain": [
       "CountVectorizer()"
      ]
     },
     "execution_count": 120,
     "metadata": {},
     "output_type": "execute_result"
    }
   ],
   "source": [
    "v = CountVectorizer()\n",
    "v.fit(train_x)"
   ]
  },
  {
   "cell_type": "code",
   "execution_count": 121,
   "id": "1321ef85",
   "metadata": {},
   "outputs": [],
   "source": [
    "yeni_yorum = v.transform(yeni_yorum)"
   ]
  },
  {
   "cell_type": "code",
   "execution_count": 122,
   "id": "925f3e9f",
   "metadata": {},
   "outputs": [
    {
     "data": {
      "text/plain": [
       "array([1])"
      ]
     },
     "execution_count": 122,
     "metadata": {},
     "output_type": "execute_result"
    }
   ],
   "source": [
    "nb_model.predict(yeni_yorum)"
   ]
  },
  {
   "cell_type": "code",
   "execution_count": 123,
   "id": "d6d7b6d6",
   "metadata": {},
   "outputs": [],
   "source": [
    "yeni_yorum1 = v.transform(yeni_yorum1)"
   ]
  },
  {
   "cell_type": "code",
   "execution_count": 124,
   "id": "18ff1cd8",
   "metadata": {},
   "outputs": [
    {
     "data": {
      "text/plain": [
       "array([0])"
      ]
     },
     "execution_count": 124,
     "metadata": {},
     "output_type": "execute_result"
    }
   ],
   "source": [
    "nb_model.predict(yeni_yorum1)"
   ]
  },
  {
   "cell_type": "code",
   "execution_count": 125,
   "id": "568fc1cd",
   "metadata": {},
   "outputs": [],
   "source": [
    "yeni_yorum2=pd.Series(\"food was not hot enough and service was poor\")"
   ]
  },
  {
   "cell_type": "code",
   "execution_count": 126,
   "id": "7690c320",
   "metadata": {},
   "outputs": [],
   "source": [
    "yeni_yorum2 = v.transform(yeni_yorum2)"
   ]
  },
  {
   "cell_type": "code",
   "execution_count": 127,
   "id": "68326e12",
   "metadata": {},
   "outputs": [
    {
     "data": {
      "text/plain": [
       "array([0])"
      ]
     },
     "execution_count": 127,
     "metadata": {},
     "output_type": "execute_result"
    }
   ],
   "source": [
    "nb_model.predict(yeni_yorum2)"
   ]
  },
  {
   "cell_type": "code",
   "execution_count": null,
   "id": "4bcbeef7",
   "metadata": {},
   "outputs": [],
   "source": []
  }
 ],
 "metadata": {
  "kernelspec": {
   "display_name": "Python 3 (ipykernel)",
   "language": "python",
   "name": "python3"
  },
  "language_info": {
   "codemirror_mode": {
    "name": "ipython",
    "version": 3
   },
   "file_extension": ".py",
   "mimetype": "text/x-python",
   "name": "python",
   "nbconvert_exporter": "python",
   "pygments_lexer": "ipython3",
   "version": "3.9.13"
  }
 },
 "nbformat": 4,
 "nbformat_minor": 5
}
